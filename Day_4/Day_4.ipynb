{
 "cells": [
  {
   "cell_type": "code",
   "execution_count": 20,
   "id": "65658185",
   "metadata": {},
   "outputs": [
    {
     "name": "stdout",
     "output_type": "stream",
     "text": [
      "Thirty Days of python\n"
     ]
    }
   ],
   "source": [
    "# Q1. Concatenate the string 'Thirty', 'Days', 'Of', 'Python' to a single string, 'Thirty Days Of Python'.\n",
    "s1 = 'Thirty'\n",
    "s2 = 'Days'\n",
    "s3 = 'of'\n",
    "s4 = 'python'\n",
    "\n",
    "print(s1 + ' ' + s2 + ' ' + s3 + ' ' + s4)"
   ]
  },
  {
   "cell_type": "code",
   "execution_count": 21,
   "id": "f42ba74d",
   "metadata": {},
   "outputs": [
    {
     "name": "stdout",
     "output_type": "stream",
     "text": [
      "coding for All\n"
     ]
    }
   ],
   "source": [
    "# Q2. Concatenate the string 'Coding', 'For' , 'All' to a single string, 'Coding For All'.\n",
    "s1 = 'coding'\n",
    "s2 = 'for'\n",
    "s3 = 'All'\n",
    "\n",
    "print(s1 + ' ' + s2 + ' ' + s3)"
   ]
  },
  {
   "cell_type": "code",
   "execution_count": 35,
   "id": "19f254ae",
   "metadata": {},
   "outputs": [],
   "source": [
    "# Q3. Declare a variable named company and assign it to an initial value \"Coding For All\".\n",
    "company = 'Coding For All'"
   ]
  },
  {
   "cell_type": "code",
   "execution_count": 23,
   "id": "c30a5e5b",
   "metadata": {},
   "outputs": [
    {
     "name": "stdout",
     "output_type": "stream",
     "text": [
      "Coding For All\n"
     ]
    }
   ],
   "source": [
    "# Q4. Print the variable company using print().\n",
    "print(company)"
   ]
  },
  {
   "cell_type": "code",
   "execution_count": 24,
   "id": "075849c2",
   "metadata": {},
   "outputs": [
    {
     "name": "stdout",
     "output_type": "stream",
     "text": [
      "14\n"
     ]
    }
   ],
   "source": [
    "# Q5. Print the length of the company string using len() method and print().\n",
    "print(len(company))"
   ]
  },
  {
   "cell_type": "code",
   "execution_count": 25,
   "id": "b57d2a3c",
   "metadata": {},
   "outputs": [
    {
     "name": "stdout",
     "output_type": "stream",
     "text": [
      "CODING FOR ALL\n"
     ]
    }
   ],
   "source": [
    "# Q6. Change all the characters to uppercase letters using upper() method.\n",
    "print(company.upper())"
   ]
  },
  {
   "cell_type": "code",
   "execution_count": 26,
   "id": "618c44d5",
   "metadata": {},
   "outputs": [
    {
     "name": "stdout",
     "output_type": "stream",
     "text": [
      "coding for all\n"
     ]
    }
   ],
   "source": [
    "#Q7. Change all the characters to lowercase letters using lower() method.\n",
    "print(company.lower())"
   ]
  },
  {
   "cell_type": "code",
   "execution_count": 27,
   "id": "5057cb39",
   "metadata": {},
   "outputs": [
    {
     "name": "stdout",
     "output_type": "stream",
     "text": [
      "Coding for all\n",
      "Coding For All\n",
      "cODING fOR aLL\n"
     ]
    }
   ],
   "source": [
    "# Q8. Use capitalize(), title(), swapcase() methods to format the value of the string Coding For All.\n",
    "print(company.capitalize())\n",
    "print(company.title())\n",
    "print(company.swapcase())"
   ]
  },
  {
   "cell_type": "code",
   "execution_count": 28,
   "id": "bfd8ddc0",
   "metadata": {},
   "outputs": [
    {
     "name": "stdout",
     "output_type": "stream",
     "text": [
      "Coding\n"
     ]
    }
   ],
   "source": [
    "#Q9. Cut(slice) out the first word of Coding For All string.\n",
    "print(company.split()[0])"
   ]
  },
  {
   "cell_type": "code",
   "execution_count": 29,
   "id": "043a74e0",
   "metadata": {},
   "outputs": [
    {
     "name": "stdout",
     "output_type": "stream",
     "text": [
      "0\n"
     ]
    }
   ],
   "source": [
    "#Q10. Check if Coding For All string contains a word Coding using the method index, find or other methods.\n",
    "print(company.index('Coding'))"
   ]
  },
  {
   "cell_type": "code",
   "execution_count": 30,
   "id": "a05a8193",
   "metadata": {},
   "outputs": [
    {
     "name": "stdout",
     "output_type": "stream",
     "text": [
      "Python For All\n"
     ]
    }
   ],
   "source": [
    "# Q11. Replace the word coding in the string 'Coding For All' to Python.\n",
    "company = company.replace('Coding', 'Python')\n",
    "print(company)"
   ]
  },
  {
   "cell_type": "code",
   "execution_count": 31,
   "id": "337ee76c",
   "metadata": {},
   "outputs": [
    {
     "name": "stdout",
     "output_type": "stream",
     "text": [
      "Python For Everyone\n"
     ]
    }
   ],
   "source": [
    "#Q12. Change Python for Everyone to Python for All using the replace method or other methods.\n",
    "print(company.replace('All', 'Everyone'))"
   ]
  },
  {
   "cell_type": "code",
   "execution_count": 32,
   "id": "c21094d4",
   "metadata": {},
   "outputs": [
    {
     "name": "stdout",
     "output_type": "stream",
     "text": [
      "['Python', 'For', 'All']\n"
     ]
    }
   ],
   "source": [
    "# Q13. Split the string 'Coding For All' using space as the separator (split()) .\n",
    "company = company.split()\n",
    "print(company)"
   ]
  },
  {
   "cell_type": "code",
   "execution_count": 33,
   "id": "18dab6fb",
   "metadata": {},
   "outputs": [
    {
     "data": {
      "text/plain": [
       "['Facebook', ' Google', ' Microsoft', ' Apple', ' IBM', ' Oracle', ' Amazon']"
      ]
     },
     "execution_count": 33,
     "metadata": {},
     "output_type": "execute_result"
    }
   ],
   "source": [
    "# Q14. \"Facebook, Google, Microsoft, Apple, IBM, Oracle, Amazon\" split the string at the comma.\n",
    "techies = \"Facebook, Google, Microsoft, Apple, IBM, Oracle, Amazon\" \n",
    "techies.split(',')"
   ]
  },
  {
   "cell_type": "code",
   "execution_count": 36,
   "id": "bbf1771f",
   "metadata": {},
   "outputs": [
    {
     "name": "stdout",
     "output_type": "stream",
     "text": [
      "C\n"
     ]
    }
   ],
   "source": [
    "#Q15. What is the character at index 0 in the string Coding For All.\n",
    "company = 'Coding For All'\n",
    "print(company[0])"
   ]
  },
  {
   "cell_type": "code",
   "execution_count": null,
   "id": "1ca54192",
   "metadata": {},
   "outputs": [],
   "source": [
    "#Q16. "
   ]
  }
 ],
 "metadata": {
  "kernelspec": {
   "display_name": "Python 3 (ipykernel)",
   "language": "python",
   "name": "python3"
  },
  "language_info": {
   "codemirror_mode": {
    "name": "ipython",
    "version": 3
   },
   "file_extension": ".py",
   "mimetype": "text/x-python",
   "name": "python",
   "nbconvert_exporter": "python",
   "pygments_lexer": "ipython3",
   "version": "3.9.12"
  }
 },
 "nbformat": 4,
 "nbformat_minor": 5
}
