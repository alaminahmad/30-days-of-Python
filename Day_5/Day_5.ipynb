{
 "cells": [
  {
   "cell_type": "markdown",
   "id": "6fa3b39c",
   "metadata": {},
   "source": [
    "EXERCISE ONE"
   ]
  },
  {
   "cell_type": "code",
   "execution_count": 21,
   "id": "cf78f905",
   "metadata": {},
   "outputs": [
    {
     "name": "stdout",
     "output_type": "stream",
     "text": [
      "6\n",
      "1\n",
      "4\n",
      "6\n",
      "['Facebook', 'Google', 'Microsoft', 'Apple', 'IBM', 'Oracle', 'Amazon']\n",
      "Number of companies:  7\n",
      "first Item:  Facebook\n",
      "middle_item:  Apple\n",
      "last_item:  Amazon\n",
      "['Tweeter', 'Google', 'Microsoft', 'Apple', 'IBM', 'Oracle', 'Amazon']\n",
      "['TWEETER', 'Google', 'Microsoft', 'Apple', 'Yahoo', 'IBM', 'Oracle', 'Amazon', 'Coursera']\n"
     ]
    }
   ],
   "source": [
    "empty_list = []\n",
    "lst_1 = [1, 2, 3, 4, 5, 6]\n",
    "print(len(lst_1))\n",
    "print(lst_1[0])\n",
    "print(lst_1[len(lst_1)//2])\n",
    "print(lst_1[-1])\n",
    "\n",
    "mixed_data_types = ['Al-amin', 24, '6 feet', 'single', 'Darmanawa Quarters, Tarauni L.G.A']\n",
    "it_companies = ['Facebook', 'Google', 'Microsoft', 'Apple', 'IBM', 'Oracle', 'Amazon']\n",
    "print(it_companies)\n",
    "print('Number of companies: ', len(it_companies))\n",
    "print('first Item: ', it_companies[0])\n",
    "print('middle_item: ', it_companies[len(it_companies)//2])\n",
    "print('last_item: ', it_companies[-1])\n",
    "\n",
    "it_companies[0] = 'Tweeter'\n",
    "print(it_companies)\n",
    "it_companies.append('Coursera')\n",
    "it_companies.insert(len(it_companies)//2, 'Yahoo')\n",
    "it_companies[0] = it_companies[0].upper()\n",
    "print(it_companies)\n",
    "\n"
   ]
  },
  {
   "cell_type": "code",
   "execution_count": 25,
   "id": "dd0a3385",
   "metadata": {},
   "outputs": [
    {
     "name": "stdout",
     "output_type": "stream",
     "text": [
      "yes\n"
     ]
    }
   ],
   "source": [
    "if 'Google' in it_companies:\n",
    "    print('yes')\n",
    "else:\n",
    "    print('NO')"
   ]
  },
  {
   "cell_type": "code",
   "execution_count": 26,
   "id": "99df110c",
   "metadata": {},
   "outputs": [
    {
     "name": "stdout",
     "output_type": "stream",
     "text": [
      "['Amazon', 'Apple', 'Coursera', 'Google', 'IBM', 'Microsoft', 'Oracle', 'TWEETER', 'Yahoo']\n"
     ]
    }
   ],
   "source": [
    "it_companies.sort()\n",
    "print(it_companies)"
   ]
  },
  {
   "cell_type": "code",
   "execution_count": 31,
   "id": "3dfc57f7",
   "metadata": {},
   "outputs": [
    {
     "name": "stdout",
     "output_type": "stream",
     "text": [
      "['Yahoo', 'TWEETER', 'Oracle', 'Microsoft', 'IBM', 'Google', 'Coursera', 'Apple', 'Amazon']\n"
     ]
    }
   ],
   "source": [
    "it_companies.reverse()\n",
    "print(it_companies)"
   ]
  },
  {
   "cell_type": "code",
   "execution_count": 32,
   "id": "d1483cbd",
   "metadata": {},
   "outputs": [
    {
     "name": "stdout",
     "output_type": "stream",
     "text": [
      "['Yahoo', 'TWEETER', 'Oracle']\n"
     ]
    }
   ],
   "source": [
    "first_three_item = it_companies[:3]\n",
    "print(first_three_item)"
   ]
  },
  {
   "cell_type": "code",
   "execution_count": 34,
   "id": "825681dc",
   "metadata": {},
   "outputs": [
    {
     "name": "stdout",
     "output_type": "stream",
     "text": [
      "['Coursera', 'Apple', 'Amazon']\n"
     ]
    }
   ],
   "source": [
    "last_three_item = it_companies[-3:]\n",
    "print(last_three_item)"
   ]
  },
  {
   "cell_type": "code",
   "execution_count": 35,
   "id": "dd91ec61",
   "metadata": {},
   "outputs": [
    {
     "name": "stdout",
     "output_type": "stream",
     "text": [
      "IBM\n"
     ]
    }
   ],
   "source": [
    "middle_company = it_companies[len(it_companies)//2]\n",
    "print(middle_company)"
   ]
  },
  {
   "cell_type": "code",
   "execution_count": null,
   "id": "0ca84f75",
   "metadata": {},
   "outputs": [],
   "source": [
    "it_companies.pop(0)"
   ]
  },
  {
   "cell_type": "code",
   "execution_count": 40,
   "id": "88922b85",
   "metadata": {},
   "outputs": [
    {
     "data": {
      "text/plain": [
       "'Google'"
      ]
     },
     "execution_count": 40,
     "metadata": {},
     "output_type": "execute_result"
    }
   ],
   "source": [
    "it_companies.pop(len(it_companies)//2)"
   ]
  },
  {
   "cell_type": "code",
   "execution_count": 41,
   "id": "bf779edc",
   "metadata": {},
   "outputs": [
    {
     "data": {
      "text/plain": [
       "'Amazon'"
      ]
     },
     "execution_count": 41,
     "metadata": {},
     "output_type": "execute_result"
    }
   ],
   "source": [
    "it_companies.pop(len(it_companies)-1)"
   ]
  },
  {
   "cell_type": "code",
   "execution_count": 42,
   "id": "d90c4e8f",
   "metadata": {},
   "outputs": [],
   "source": [
    "it_companies.clear()"
   ]
  },
  {
   "cell_type": "code",
   "execution_count": 43,
   "id": "673c5bbe",
   "metadata": {},
   "outputs": [],
   "source": [
    "del it_companies"
   ]
  },
  {
   "cell_type": "code",
   "execution_count": 44,
   "id": "1a64d8df",
   "metadata": {},
   "outputs": [
    {
     "name": "stdout",
     "output_type": "stream",
     "text": [
      "['HTML', 'CSS', 'JS', 'React', 'Redux', 'Node', 'Express', 'MongoDB']\n"
     ]
    }
   ],
   "source": [
    "front_end = ['HTML', 'CSS', 'JS', 'React', 'Redux']\n",
    "back_end = ['Node','Express', 'MongoDB']\n",
    "\n",
    "joined_lst = front_end + back_end\n",
    "print(joined_lst)"
   ]
  },
  {
   "cell_type": "code",
   "execution_count": 51,
   "id": "b67a5b7d",
   "metadata": {},
   "outputs": [],
   "source": [
    "fullstack = joined_lst.copy()\n",
    "fullstack.insert(fullstack.index('Redux')+1, 'Python')\n",
    "fullstack.insert(fullstack.index('Python')+1, 'SQL')"
   ]
  },
  {
   "cell_type": "code",
   "execution_count": 52,
   "id": "591f5fc0",
   "metadata": {},
   "outputs": [
    {
     "data": {
      "text/plain": [
       "['HTML',\n",
       " 'CSS',\n",
       " 'JS',\n",
       " 'React',\n",
       " 'Redux',\n",
       " 'Python',\n",
       " 'SQL',\n",
       " 'Node',\n",
       " 'Express',\n",
       " 'MongoDB']"
      ]
     },
     "execution_count": 52,
     "metadata": {},
     "output_type": "execute_result"
    }
   ],
   "source": [
    "fullstack"
   ]
  },
  {
   "cell_type": "code",
   "execution_count": 46,
   "id": "a354c12a",
   "metadata": {},
   "outputs": [
    {
     "data": {
      "text/plain": [
       "4"
      ]
     },
     "execution_count": 46,
     "metadata": {},
     "output_type": "execute_result"
    }
   ],
   "source": [
    "fullstack.index('Redux')"
   ]
  },
  {
   "cell_type": "markdown",
   "id": "ddc512ed",
   "metadata": {},
   "source": [
    "EXERSISE TWO"
   ]
  },
  {
   "cell_type": "code",
   "execution_count": 53,
   "id": "eb2c78d1",
   "metadata": {},
   "outputs": [],
   "source": [
    "ages = [19, 22, 19, 24, 20, 25, 26, 24, 25, 24]"
   ]
  },
  {
   "cell_type": "code",
   "execution_count": 60,
   "id": "150b5425",
   "metadata": {},
   "outputs": [
    {
     "name": "stdout",
     "output_type": "stream",
     "text": [
      "[19, 19, 20, 22, 24, 24, 24, 25, 25, 26]\n",
      "Min Ages:  19\n",
      "Max Ages:  26\n"
     ]
    }
   ],
   "source": [
    "ages.sort()\n",
    "print(ages)\n",
    "print('Min Ages: ', min(ages))\n",
    "print('Max Ages: ', max(ages))"
   ]
  },
  {
   "cell_type": "code",
   "execution_count": 70,
   "id": "80cc6c59",
   "metadata": {},
   "outputs": [
    {
     "name": "stdout",
     "output_type": "stream",
     "text": [
      "Median Ages is:  24\n"
     ]
    }
   ],
   "source": [
    "if len(ages) % 2 == 0:\n",
    "    print('Median Ages is: ', ages[len(ages)//2])\n",
    "else: \n",
    "    print('Median Ages is: ', ages[len(ages)//2:len(ages)//2+1])"
   ]
  },
  {
   "cell_type": "code",
   "execution_count": 71,
   "id": "270f5355",
   "metadata": {},
   "outputs": [
    {
     "name": "stdout",
     "output_type": "stream",
     "text": [
      "Range of the Ages is :  7\n"
     ]
    }
   ],
   "source": [
    "print('Range of the Ages is : ', max(ages) - min(ages))"
   ]
  },
  {
   "cell_type": "code",
   "execution_count": 77,
   "id": "4e43f8ed",
   "metadata": {},
   "outputs": [
    {
     "ename": "AttributeError",
     "evalue": "'list' object has no attribute 'average'",
     "output_type": "error",
     "traceback": [
      "\u001b[1;31m---------------------------------------------------------------------------\u001b[0m",
      "\u001b[1;31mAttributeError\u001b[0m                            Traceback (most recent call last)",
      "Input \u001b[1;32mIn [77]\u001b[0m, in \u001b[0;36m<cell line: 1>\u001b[1;34m()\u001b[0m\n\u001b[1;32m----> 1\u001b[0m \u001b[38;5;28mprint\u001b[39m(\u001b[38;5;28mmin\u001b[39m(ages) \u001b[38;5;241m-\u001b[39m \u001b[43mages\u001b[49m\u001b[38;5;241;43m.\u001b[39;49m\u001b[43maverage\u001b[49m())\n\u001b[0;32m      2\u001b[0m \u001b[38;5;28mprint\u001b[39m(\u001b[38;5;28mmax\u001b[39m(ages) \u001b[38;5;241m-\u001b[39m mean(ages))\n",
      "\u001b[1;31mAttributeError\u001b[0m: 'list' object has no attribute 'average'"
     ]
    }
   ],
   "source": [
    "print(min(ages) - ages.average())\n",
    "print(max(ages) - mean(ages))"
   ]
  },
  {
   "cell_type": "code",
   "execution_count": 85,
   "id": "08fb9599",
   "metadata": {},
   "outputs": [
    {
     "name": "stdout",
     "output_type": "stream",
     "text": [
      "min - average is :  3.8000000000000007\n",
      "max - average is :  3.1999999999999993\n"
     ]
    }
   ],
   "source": [
    "print('min - average is : ', abs(min(ages) - sum(ages)/len(ages)))\n",
    "print('max - average is : ', abs(max(ages) - sum(ages)/ len(ages)))"
   ]
  },
  {
   "cell_type": "code",
   "execution_count": 86,
   "id": "9f58a536",
   "metadata": {},
   "outputs": [],
   "source": [
    "countries = [\n",
    "  'Afghanistan',\n",
    "  'Albania',\n",
    "  'Algeria',\n",
    "  'Andorra',\n",
    "  'Angola',\n",
    "  'Antigua and Barbuda',\n",
    "  'Argentina',\n",
    "  'Armenia',\n",
    "  'Australia',\n",
    "  'Austria',\n",
    "  'Azerbaijan',\n",
    "  'Bahamas',\n",
    "  'Bahrain',\n",
    "  'Bangladesh',\n",
    "  'Barbados',\n",
    "  'Belarus',\n",
    "  'Belgium',\n",
    "  'Belize',\n",
    "  'Benin',\n",
    "  'Bhutan',\n",
    "  'Bolivia',\n",
    "  'Bosnia and Herzegovina',\n",
    "  'Botswana',\n",
    "  'Brazil',\n",
    "  'Brunei',\n",
    "  'Bulgaria',\n",
    "  'Burkina Faso',\n",
    "  'Burundi',\n",
    "  'Cambodia',\n",
    "  'Cameroon',\n",
    "  'Canada',\n",
    "  'Cape Verde',\n",
    "  'Central African Republic',\n",
    "  'Chad',\n",
    "  'Chile',\n",
    "  'China',\n",
    "  'Colombi',\n",
    "  'Comoros',\n",
    "  'Congo (Brazzaville)',\n",
    "  'Congo',\n",
    "  'Costa Rica',\n",
    "  \"Cote d'Ivoire\",\n",
    "  'Croatia',\n",
    "  'Cuba',\n",
    "  'Cyprus',\n",
    "  'Czech Republic',\n",
    "  'Denmark',\n",
    "  'Djibouti',\n",
    "  'Dominica',\n",
    "  'Dominican Republic',\n",
    "  'East Timor (Timor Timur)',\n",
    "  'Ecuador',\n",
    "  'Egypt',\n",
    "  'El Salvador',\n",
    "  'Equatorial Guinea',\n",
    "  'Eritrea',\n",
    "  'Estonia',\n",
    "  'Ethiopia',\n",
    "  'Fiji',\n",
    "  'Finland',\n",
    "  'France',\n",
    "  'Gabon',\n",
    "  'Gambia, The',\n",
    "  'Georgia',\n",
    "  'Germany',\n",
    "  'Ghana',\n",
    "  'Greece',\n",
    "  'Grenada',\n",
    "  'Guatemala',\n",
    "  'Guinea',\n",
    "  'Guinea-Bissau',\n",
    "  'Guyana',\n",
    "  'Haiti',\n",
    "  'Honduras',\n",
    "  'Hungary',\n",
    "  'Iceland',\n",
    "  'India',\n",
    "  'Indonesia',\n",
    "  'Iran',\n",
    "  'Iraq',\n",
    "  'Ireland',\n",
    "  'Israel',\n",
    "  'Italy',\n",
    "  'Jamaica',\n",
    "  'Japan',\n",
    "  'Jordan',\n",
    "  'Kazakhstan',\n",
    "  'Kenya',\n",
    "  'Kiribati',\n",
    "  'Korea, North',\n",
    "  'Korea, South',\n",
    "  'Kuwait',\n",
    "  'Kyrgyzstan',\n",
    "  'Laos',\n",
    "  'Latvia',\n",
    "  'Lebanon',\n",
    "  'Lesotho',\n",
    "  'Liberia',\n",
    "  'Libya',\n",
    "  'Liechtenstein',\n",
    "  'Lithuania',\n",
    "  'Luxembourg',\n",
    "  'Macedonia',\n",
    "  'Madagascar',\n",
    "  'Malawi',\n",
    "  'Malaysia',\n",
    "  'Maldives',\n",
    "  'Mali',\n",
    "  'Malta',\n",
    "  'Marshall Islands',\n",
    "  'Mauritania',\n",
    "  'Mauritius',\n",
    "  'Mexico',\n",
    "  'Micronesia',\n",
    "  'Moldova',\n",
    "  'Monaco',\n",
    "  'Mongolia',\n",
    "  'Morocco',\n",
    "  'Mozambique',\n",
    "  'Myanmar',\n",
    "  'Namibia',\n",
    "  'Nauru',\n",
    "  'Nepal',\n",
    "  'Netherlands',\n",
    "  'New Zealand',\n",
    "  'Nicaragua',\n",
    "  'Niger',\n",
    "  'Nigeria',\n",
    "  'Norway',\n",
    "  'Oman',\n",
    "  'Pakistan',\n",
    "  'Palau',\n",
    "  'Panama',\n",
    "  'Papua New Guinea',\n",
    "  'Paraguay',\n",
    "  'Peru',\n",
    "  'Philippines',\n",
    "  'Poland',\n",
    "  'Portugal',\n",
    "  'Qatar',\n",
    "  'Romania',\n",
    "  'Russia',\n",
    "  'Rwanda',\n",
    "  'Saint Kitts and Nevis',\n",
    "  'Saint Lucia',\n",
    "  'Saint Vincent',\n",
    "  'Samoa',\n",
    "  'San Marino',\n",
    "  'Sao Tome and Principe',\n",
    "  'Saudi Arabia',\n",
    "  'Senegal',\n",
    "  'Serbia and Montenegro',\n",
    "  'Seychelles',\n",
    "  'Sierra Leone',\n",
    "  'Singapore',\n",
    "  'Slovakia',\n",
    "  'Slovenia',\n",
    "  'Solomon Islands',\n",
    "  'Somalia',\n",
    "  'South Africa',\n",
    "  'Spain',\n",
    "  'Sri Lanka',\n",
    "  'Sudan',\n",
    "  'Suriname',\n",
    "  'Swaziland',\n",
    "  'Sweden',\n",
    "  'Switzerland',\n",
    "  'Syria',\n",
    "  'Taiwan',\n",
    "  'Tajikistan',\n",
    "  'Tanzania',\n",
    "  'Thailand',\n",
    "  'Togo',\n",
    "  'Tonga',\n",
    "  'Trinidad and Tobago',\n",
    "  'Tunisia',\n",
    "  'Turkey',\n",
    "  'Turkmenistan',\n",
    "  'Tuvalu',\n",
    "  'Uganda',\n",
    "  'Ukraine',\n",
    "  'United Arab Emirates',\n",
    "  'United Kingdom',\n",
    "  'United States',\n",
    "  'Uruguay',\n",
    "  'Uzbekistan',\n",
    "  'Vanuatu',\n",
    "  'Vatican City',\n",
    "  'Venezuela',\n",
    "  'Vietnam',\n",
    "  'Yemen',\n",
    "  'Zambia',\n",
    "  'Zimbabwe',\n",
    "];"
   ]
  },
  {
   "cell_type": "code",
   "execution_count": 88,
   "id": "edc13715",
   "metadata": {},
   "outputs": [
    {
     "data": {
      "text/plain": [
       "'Zimbabwe'"
      ]
     },
     "execution_count": 88,
     "metadata": {},
     "output_type": "execute_result"
    }
   ],
   "source": [
    "countries[-1]"
   ]
  },
  {
   "cell_type": "code",
   "execution_count": 92,
   "id": "d544d466",
   "metadata": {},
   "outputs": [
    {
     "name": "stdout",
     "output_type": "stream",
     "text": [
      "Mid Country is :  Lesotho\n"
     ]
    }
   ],
   "source": [
    "print('Mid Country is : ',countries[len(countries) // 2])"
   ]
  },
  {
   "cell_type": "code",
   "execution_count": 94,
   "id": "919141aa",
   "metadata": {},
   "outputs": [],
   "source": [
    "if len(countries) % 2 ==0:\n",
    "    first_halve = countries[:len(countries)//2]\n",
    "    second_halve = countries[len(countries)//2:]\n",
    "else:\n",
    "    first_halve = countries[:len(countries)//2+1]\n",
    "    second_halve = countries[len(countries)//2+1:]"
   ]
  },
  {
   "cell_type": "code",
   "execution_count": 96,
   "id": "c27e1292",
   "metadata": {},
   "outputs": [],
   "source": [
    "countries = ['China', 'Russia', 'USA', 'Finland', 'Sweden', 'Norway', 'Denmark']\n",
    "first, second, third, *rest = countries"
   ]
  }
 ],
 "metadata": {
  "kernelspec": {
   "display_name": "Python 3 (ipykernel)",
   "language": "python",
   "name": "python3"
  },
  "language_info": {
   "codemirror_mode": {
    "name": "ipython",
    "version": 3
   },
   "file_extension": ".py",
   "mimetype": "text/x-python",
   "name": "python",
   "nbconvert_exporter": "python",
   "pygments_lexer": "ipython3",
   "version": "3.9.12"
  }
 },
 "nbformat": 4,
 "nbformat_minor": 5
}
