{
 "cells": [
  {
   "cell_type": "markdown",
   "id": "5874c650",
   "metadata": {},
   "source": [
    "Exercise: level 1"
   ]
  },
  {
   "cell_type": "code",
   "execution_count": 7,
   "id": "25c589d4",
   "metadata": {},
   "outputs": [
    {
     "name": "stdout",
     "output_type": "stream",
     "text": [
      "()\n",
      "('Khadija', 'Aisha', 'Salma', 'Mukhtar', 'Umar', 'Muhammad')\n",
      "NO: of siblings is 6\n",
      "('Khadija', 'Aisha', 'Salma', 'Mukhtar', 'Umar', 'Muhammad', 'Aisha', 'Ahmad')\n"
     ]
    }
   ],
   "source": [
    "empty_tupple = tuple()\n",
    "print(empty_tupple)\n",
    "\n",
    "sisters = ('Khadija', 'Aisha', 'Salma')\n",
    "brothers = ('Mukhtar', 'Umar', 'Muhammad')\n",
    "\n",
    "joined_siblings = sisters + brothers\n",
    "print(joined_siblings)\n",
    "\n",
    "print('NO: of siblings is {}'.format(len(joined_siblings)))\n",
    "family_members = joined_siblings + ('Aisha', 'Ahmad')\n",
    "print(family_members)"
   ]
  },
  {
   "cell_type": "markdown",
   "id": "561b3894",
   "metadata": {},
   "source": [
    "Exercise: level 2"
   ]
  },
  {
   "cell_type": "code",
   "execution_count": 9,
   "id": "dd241a87",
   "metadata": {},
   "outputs": [
    {
     "name": "stdout",
     "output_type": "stream",
     "text": [
      "('Khadija', 'Aisha', 'Salma', 'Mukhtar', 'Umar', 'Muhammad')\n",
      "('Aisha', 'Ahmad')\n"
     ]
    }
   ],
   "source": [
    "siblings = family_members[:-2]\n",
    "print(siblings)\n",
    "parents = family_members[-2:]\n",
    "print(parents)"
   ]
  },
  {
   "cell_type": "code",
   "execution_count": 17,
   "id": "8b33702f",
   "metadata": {},
   "outputs": [
    {
     "name": "stdout",
     "output_type": "stream",
     "text": [
      "('Apple', 'lemon', 'watermelon', 'lettuce', 'spinach', 'silverbeet', 'Sheep', 'Ram', 'Cow')\n",
      "['Apple', 'lemon', 'watermelon', 'lettuce', 'spinach', 'silverbeet', 'Sheep', 'Ram', 'Cow']\n",
      "spinach\n",
      "first_three:  ['Apple', 'lemon', 'watermelon']\n",
      "last_three:  ['Sheep', 'Ram', 'Cow']\n",
      "False\n",
      "True\n"
     ]
    }
   ],
   "source": [
    "fruits = ('Apple', 'lemon', 'watermelon')\n",
    "vegetables = ('lettuce', 'spinach', 'silverbeet')\n",
    "animals = ('Sheep', 'Ram', 'Cow')\n",
    "\n",
    "food_stuff_tp = fruits + vegetables + animals\n",
    "print(food_sf)\n",
    "\n",
    "food_stuff_lt = list(food_stuff_tp)\n",
    "print(food_stuff_lt)\n",
    "\n",
    "middle_item = food_stuff_tp[len(food_stuff_tp)//2]\n",
    "print(middle_item)\n",
    "\n",
    "first_three  = food_stuff_lt[:3]\n",
    "last_three = food_stuff_lt[-3:]\n",
    "print('first_three: ', first_three)\n",
    "print('last_three: ', last_three)\n",
    "\n",
    "del food_stuff_tp\n",
    "\n",
    "nordic_countries = ('Denmark', 'Finland','Iceland', 'Norway', 'Sweden')\n",
    "\n",
    "print('Estonia' in nordic_countries)\n",
    "print('Iceland' in nordic_countries)"
   ]
  },
  {
   "cell_type": "code",
   "execution_count": null,
   "id": "4dc37d6c",
   "metadata": {},
   "outputs": [],
   "source": []
  }
 ],
 "metadata": {
  "kernelspec": {
   "display_name": "Python 3 (ipykernel)",
   "language": "python",
   "name": "python3"
  },
  "language_info": {
   "codemirror_mode": {
    "name": "ipython",
    "version": 3
   },
   "file_extension": ".py",
   "mimetype": "text/x-python",
   "name": "python",
   "nbconvert_exporter": "python",
   "pygments_lexer": "ipython3",
   "version": "3.9.12"
  }
 },
 "nbformat": 4,
 "nbformat_minor": 5
}
