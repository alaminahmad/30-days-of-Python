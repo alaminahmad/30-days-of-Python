{
 "cells": [
  {
   "cell_type": "markdown",
   "id": "1aff455a",
   "metadata": {},
   "source": [
    "Exercise: Level 1"
   ]
  },
  {
   "cell_type": "code",
   "execution_count": 1,
   "id": "da715e8b",
   "metadata": {},
   "outputs": [],
   "source": [
    "def add_two_numbers(num1, num2):\n",
    "    return num1 + num2"
   ]
  },
  {
   "cell_type": "code",
   "execution_count": 2,
   "id": "a4a3842d",
   "metadata": {},
   "outputs": [
    {
     "data": {
      "text/plain": [
       "5"
      ]
     },
     "execution_count": 2,
     "metadata": {},
     "output_type": "execute_result"
    }
   ],
   "source": [
    "add_two_numbers(2, 3)"
   ]
  },
  {
   "cell_type": "code",
   "execution_count": 11,
   "id": "cb70596c",
   "metadata": {},
   "outputs": [],
   "source": [
    "def area_circle(radius):\n",
    "    import math\n",
    "    return math.pi * radius**2"
   ]
  },
  {
   "cell_type": "code",
   "execution_count": 12,
   "id": "d23ce7ce",
   "metadata": {},
   "outputs": [
    {
     "data": {
      "text/plain": [
       "12.566370614359172"
      ]
     },
     "execution_count": 12,
     "metadata": {},
     "output_type": "execute_result"
    }
   ],
   "source": [
    "area_circle(2)"
   ]
  },
  {
   "cell_type": "code",
   "execution_count": 26,
   "id": "228d5eec",
   "metadata": {},
   "outputs": [],
   "source": [
    "def add_all_nums(*nums):\n",
    "    count = 0\n",
    "    for i in nums:\n",
    "        if type(i) != int:\n",
    "            return 'wrong data type'\n",
    "        count += i\n",
    "    return count"
   ]
  },
  {
   "cell_type": "code",
   "execution_count": 29,
   "id": "c332d90f",
   "metadata": {},
   "outputs": [
    {
     "data": {
      "text/plain": [
       "'wrong data type'"
      ]
     },
     "execution_count": 29,
     "metadata": {},
     "output_type": "execute_result"
    }
   ],
   "source": [
    "add_all_nums(2,3,3, '2')"
   ]
  },
  {
   "cell_type": "code",
   "execution_count": 31,
   "id": "2df964b6",
   "metadata": {},
   "outputs": [],
   "source": [
    "def convert_celsius_to_fahrenheit(value):\n",
    "    return value * ( 9 / 5) + 32"
   ]
  },
  {
   "cell_type": "code",
   "execution_count": 32,
   "id": "b18068ea",
   "metadata": {},
   "outputs": [
    {
     "data": {
      "text/plain": [
       "89.6"
      ]
     },
     "execution_count": 32,
     "metadata": {},
     "output_type": "execute_result"
    }
   ],
   "source": [
    "convert_celsius_to_fahrenheit(32)"
   ]
  },
  {
   "cell_type": "code",
   "execution_count": 33,
   "id": "b76b036c",
   "metadata": {},
   "outputs": [],
   "source": [
    "def check_season(season):\n",
    "    if season in ['December', 'January', 'Febuary']:\n",
    "        return 'Winter'\n",
    "    elif season in ['June', 'July', 'August']:\n",
    "        return 'Summer'\n",
    "    elif season in ['March', 'April', 'May']:\n",
    "        return 'Spring'\n",
    "    elif season in ['September', 'October', 'November']:\n",
    "        return 'Autumn'\n",
    "    return 'Wrong input'"
   ]
  },
  {
   "cell_type": "code",
   "execution_count": 36,
   "id": "7e99bd2c",
   "metadata": {},
   "outputs": [
    {
     "data": {
      "text/plain": [
       "'Summer'"
      ]
     },
     "execution_count": 36,
     "metadata": {},
     "output_type": "execute_result"
    }
   ],
   "source": [
    "check_season('July')"
   ]
  },
  {
   "cell_type": "code",
   "execution_count": null,
   "id": "d4de5b72",
   "metadata": {},
   "outputs": [],
   "source": [
    "def calculate_slope(eqn):\n",
    "    return "
   ]
  },
  {
   "cell_type": "code",
   "execution_count": 12,
   "id": "1c38c2a8",
   "metadata": {},
   "outputs": [],
   "source": [
    "import math\n",
    "def solve_quadratic_eqn(a, b, c):\n",
    "    ans_1 = -b + math.sqrt(b**2 - 4*a*c) / 2*a\n",
    "    ans_2 = -b - math.sqrt(b**2 - 4*a*c) / 2*a\n",
    "    \n",
    "    return print('The answer is either {} or {}'.format(ans_1, ans_2))"
   ]
  },
  {
   "cell_type": "code",
   "execution_count": 13,
   "id": "1597098e",
   "metadata": {},
   "outputs": [
    {
     "name": "stdout",
     "output_type": "stream",
     "text": [
      "The answer is either -2.0 or -2.0\n"
     ]
    }
   ],
   "source": [
    "solve_quadratic_eqn(1, 2, 1)"
   ]
  },
  {
   "cell_type": "code",
   "execution_count": 21,
   "id": "fd769cf8",
   "metadata": {},
   "outputs": [],
   "source": [
    "def print_list(nums):\n",
    "    for i in nums:\n",
    "        print(i)"
   ]
  },
  {
   "cell_type": "code",
   "execution_count": 22,
   "id": "cab40403",
   "metadata": {},
   "outputs": [
    {
     "name": "stdout",
     "output_type": "stream",
     "text": [
      "1\n",
      "3\n",
      "4\n"
     ]
    }
   ],
   "source": [
    "print_list([1, 3, 4])"
   ]
  },
  {
   "cell_type": "code",
   "execution_count": 23,
   "id": "15633279",
   "metadata": {},
   "outputs": [],
   "source": [
    "def reverse_list(array):\n",
    "    for i in range(len(array)//2):\n",
    "        array[i], array[len(array)-1-i] = array[len(array)-1-i], array[i]\n",
    "    return array"
   ]
  },
  {
   "cell_type": "code",
   "execution_count": 25,
   "id": "a755231b",
   "metadata": {},
   "outputs": [
    {
     "data": {
      "text/plain": [
       "[5, 4, 3, 2, 1]"
      ]
     },
     "execution_count": 25,
     "metadata": {},
     "output_type": "execute_result"
    }
   ],
   "source": [
    "reverse_list([1, 2, 3, 4, 5])"
   ]
  },
  {
   "cell_type": "code",
   "execution_count": 33,
   "id": "4bec529b",
   "metadata": {},
   "outputs": [],
   "source": [
    "def capitalize_list_items(lst):\n",
    "    for i in range(len(lst)):\n",
    "        lst[i] = lst[i].upper()\n",
    "    return lst"
   ]
  },
  {
   "cell_type": "code",
   "execution_count": 34,
   "id": "15ddb318",
   "metadata": {},
   "outputs": [
    {
     "data": {
      "text/plain": [
       "['A', 'B']"
      ]
     },
     "execution_count": 34,
     "metadata": {},
     "output_type": "execute_result"
    }
   ],
   "source": [
    "capitalize_list_items(['a', 'b'])"
   ]
  },
  {
   "cell_type": "code",
   "execution_count": 35,
   "id": "a4965f52",
   "metadata": {},
   "outputs": [],
   "source": [
    "def add_item(lst, item):\n",
    "    lst.append(item)\n",
    "    return lst"
   ]
  },
  {
   "cell_type": "code",
   "execution_count": 37,
   "id": "90559a37",
   "metadata": {},
   "outputs": [
    {
     "name": "stdout",
     "output_type": "stream",
     "text": [
      "['Potato', 'Tomato', 'Mango', 'Milk', 'Meat']\n",
      "[2, 3, 7, 9, 5]\n"
     ]
    }
   ],
   "source": [
    "food_staff = ['Potato', 'Tomato', 'Mango', 'Milk']\n",
    "print(add_item(food_staff, 'Meat')) \n",
    "numbers = [2, 3, 7, 9];\n",
    "print(add_item(numbers, 5)) "
   ]
  },
  {
   "cell_type": "code",
   "execution_count": 39,
   "id": "bbdbcf86",
   "metadata": {},
   "outputs": [],
   "source": [
    "def remove_item(lst, item):\n",
    "    lst.remove(item)\n",
    "    return lst"
   ]
  },
  {
   "cell_type": "code",
   "execution_count": 40,
   "id": "b8378824",
   "metadata": {},
   "outputs": [
    {
     "name": "stdout",
     "output_type": "stream",
     "text": [
      "['Potato', 'Tomato', 'Milk']\n",
      "[2, 7, 9]\n"
     ]
    }
   ],
   "source": [
    "food_staff = ['Potato', 'Tomato', 'Mango', 'Milk'];\n",
    "print(remove_item(food_staff, 'Mango'))  # ['Potato', 'Tomato', 'Milk'];\n",
    "numbers = [2, 3, 7, 9];\n",
    "print(remove_item(numbers, 3))"
   ]
  },
  {
   "cell_type": "code",
   "execution_count": 44,
   "id": "0e903b6a",
   "metadata": {},
   "outputs": [],
   "source": [
    "def sum_of_numbers(num):\n",
    "    sum = 0\n",
    "    for i in range(num+1):\n",
    "        sum += i\n",
    "    return sum"
   ]
  },
  {
   "cell_type": "code",
   "execution_count": 45,
   "id": "5fb187cc",
   "metadata": {},
   "outputs": [
    {
     "name": "stdout",
     "output_type": "stream",
     "text": [
      "15\n",
      "55\n",
      "5050\n"
     ]
    }
   ],
   "source": [
    "print(sum_of_numbers(5))  # 15\n",
    "print(sum_of_numbers(10)) # 55\n",
    "print(sum_of_numbers(100)) # 5050"
   ]
  },
  {
   "cell_type": "code",
   "execution_count": 46,
   "id": "7795a00d",
   "metadata": {},
   "outputs": [],
   "source": [
    "def sum_of_odds(num):\n",
    "    sum = 0\n",
    "    for i in range(num + 1):\n",
    "        if i % 2 != 0:\n",
    "            sum += i\n",
    "    return sum"
   ]
  },
  {
   "cell_type": "code",
   "execution_count": 47,
   "id": "17d7b84f",
   "metadata": {},
   "outputs": [
    {
     "data": {
      "text/plain": [
       "9"
      ]
     },
     "execution_count": 47,
     "metadata": {},
     "output_type": "execute_result"
    }
   ],
   "source": [
    "sum_of_odds(5)"
   ]
  },
  {
   "cell_type": "code",
   "execution_count": 48,
   "id": "2542be02",
   "metadata": {},
   "outputs": [],
   "source": [
    "def sum_of_even(num):\n",
    "    sum = 0\n",
    "    for i in range(num + 1):\n",
    "        if i % 2 == 0:\n",
    "            sum += i\n",
    "    return sum"
   ]
  },
  {
   "cell_type": "code",
   "execution_count": 49,
   "id": "bb1ebbb9",
   "metadata": {},
   "outputs": [
    {
     "data": {
      "text/plain": [
       "6"
      ]
     },
     "execution_count": 49,
     "metadata": {},
     "output_type": "execute_result"
    }
   ],
   "source": [
    "sum_of_even(5)"
   ]
  },
  {
   "cell_type": "markdown",
   "id": "67aab641",
   "metadata": {},
   "source": [
    "Exercises: Level 2"
   ]
  },
  {
   "cell_type": "code",
   "execution_count": 50,
   "id": "08894062",
   "metadata": {},
   "outputs": [],
   "source": [
    "def evens_and_odds(num):\n",
    "    count_even = 0\n",
    "    count_odd = 0\n",
    "    for i in range(num + 1):\n",
    "        if i % 2 == 0:\n",
    "            count_even += 1\n",
    "        else:\n",
    "            count_odd += 1\n",
    "    print('the number of even is ', count_even)\n",
    "    print('the number of odd is ', count_odd)"
   ]
  },
  {
   "cell_type": "code",
   "execution_count": 52,
   "id": "ae9ea70d",
   "metadata": {},
   "outputs": [
    {
     "name": "stdout",
     "output_type": "stream",
     "text": [
      "the number of even is  51\n",
      "the number of odd is  50\n",
      "None\n"
     ]
    }
   ],
   "source": [
    "print(evens_and_odds(100))"
   ]
  },
  {
   "cell_type": "code",
   "execution_count": 64,
   "id": "8d7869a5",
   "metadata": {},
   "outputs": [],
   "source": [
    "def factorial(num):\n",
    "    for i in range(num-1, 1, -1):\n",
    "        num *= i\n",
    "    return num"
   ]
  },
  {
   "cell_type": "code",
   "execution_count": 67,
   "id": "4298ac99",
   "metadata": {},
   "outputs": [
    {
     "data": {
      "text/plain": [
       "120"
      ]
     },
     "execution_count": 67,
     "metadata": {},
     "output_type": "execute_result"
    }
   ],
   "source": [
    "factorial(5)"
   ]
  },
  {
   "cell_type": "code",
   "execution_count": 73,
   "id": "357015d2",
   "metadata": {},
   "outputs": [],
   "source": [
    "def is_empty(var):\n",
    "    if len(var) >= 1:\n",
    "        return 'not empty'\n",
    "    return 'empty'"
   ]
  },
  {
   "cell_type": "code",
   "execution_count": 75,
   "id": "800dca36",
   "metadata": {},
   "outputs": [
    {
     "data": {
      "text/plain": [
       "'empty'"
      ]
     },
     "execution_count": 75,
     "metadata": {},
     "output_type": "execute_result"
    }
   ],
   "source": [
    "is_empty([])"
   ]
  },
  {
   "cell_type": "code",
   "execution_count": 146,
   "id": "6db1c2eb",
   "metadata": {},
   "outputs": [],
   "source": [
    "import math\n",
    "def calculate_mean(lst):\n",
    "    sum = 0\n",
    "    for i in lst:\n",
    "        sum+=i\n",
    "    return sum / len(lst)\n",
    "\n",
    "def calculate_median(lst):\n",
    "    lst  =  sorted(lst)\n",
    "    if len(lst) % 2 != 0:\n",
    "        median = lst[len(lst)//2]\n",
    "    else:\n",
    "        median = (lst[len(lst)//2] + lst[len(lst)//2 - 1]) / 2\n",
    "    return median\n",
    "\n",
    "def calculate_mode(lst):\n",
    "    counts = []\n",
    "    for i in set(lst):\n",
    "        counts.append(lst.count(i))\n",
    "    mode_index = counts.index(max(counts))\n",
    "\n",
    "    return list(set(lst))[mode_index]\n",
    "\n",
    "def calculate_range(lst):\n",
    "    min_value = min(lst)\n",
    "    max_value = max(lst)\n",
    "    return (max_value - min_value)  \n",
    "\n",
    "def calculate_variance(lst):\n",
    "    mean_value = calculate_mean(lst)\n",
    "    var = []\n",
    "    for i in lst:\n",
    "        var.append((i - mean_value)**2)\n",
    "    return sum(var) / len(lst)\n",
    "def calculate_std(lst):\n",
    "    return math.sqrt(calculate_variance(lst))"
   ]
  },
  {
   "cell_type": "markdown",
   "id": "0852be8d",
   "metadata": {},
   "source": [
    "Exercises: Level 3"
   ]
  },
  {
   "cell_type": "code",
   "execution_count": 169,
   "id": "00a95115",
   "metadata": {},
   "outputs": [],
   "source": [
    "def is_prime(num):\n",
    "    for i in range(2, num):\n",
    "        if num % i == 0:\n",
    "            return 'not prime'\n",
    "    return 'prime'\n",
    "\n",
    "def is_unique(lst):\n",
    "    if len(set(lst)) == len(lst):\n",
    "        return 'all items are unique'\n",
    "    return 'not unique'\n",
    "\n",
    "def is_same_data_type(lst):\n",
    "    data_type = []\n",
    "    for i in lst:\n",
    "        data_type.append(type(i))\n",
    "    \n",
    "    if len(set(data_type)) > 1:\n",
    "        return 'not the same data type'\n",
    "    return 'same data type'\n",
    "    "
   ]
  },
  {
   "cell_type": "code",
   "execution_count": 168,
   "id": "c80f7cbb",
   "metadata": {},
   "outputs": [
    {
     "data": {
      "text/plain": [
       "'not the same datatype'"
      ]
     },
     "execution_count": 168,
     "metadata": {},
     "output_type": "execute_result"
    }
   ],
   "source": [
    "is_same_data_type([2, 34, 2, 'd'])"
   ]
  },
  {
   "cell_type": "code",
   "execution_count": 170,
   "id": "5bb5549b",
   "metadata": {},
   "outputs": [],
   "source": [
    "def most_spoken_languages(countries):\n",
    "    st = []\n",
    "    for dct in countries:\n",
    "        for key in dct:\n",
    "            if key == 'languages':\n",
    "                for language in dct[key]:\n",
    "                    st.append(language)\n",
    "    print(len(set(st)))\n",
    "    lang = []\n",
    "    for i in set(st):\n",
    "        lang.append((i, st.count(i)))\n",
    "    lang.sort(key = lambda x: x[1])\n",
    "    lang = lang[::-1]\n",
    "    return lang[:10]"
   ]
  },
  {
   "cell_type": "code",
   "execution_count": 171,
   "id": "9d60cab2",
   "metadata": {},
   "outputs": [],
   "source": [
    "def most_populated_countries(countries):\n",
    "    population = []\n",
    "    for dct in countries:\n",
    "        population.append((dct['name'], dct['population']))\n",
    "\n",
    "    population.sort(key = lambda x: x[1])\n",
    "    population = population[::-1]\n",
    "    return population[:10]"
   ]
  }
 ],
 "metadata": {
  "kernelspec": {
   "display_name": "Python 3 (ipykernel)",
   "language": "python",
   "name": "python3"
  },
  "language_info": {
   "codemirror_mode": {
    "name": "ipython",
    "version": 3
   },
   "file_extension": ".py",
   "mimetype": "text/x-python",
   "name": "python",
   "nbconvert_exporter": "python",
   "pygments_lexer": "ipython3",
   "version": "3.9.12"
  }
 },
 "nbformat": 4,
 "nbformat_minor": 5
}
