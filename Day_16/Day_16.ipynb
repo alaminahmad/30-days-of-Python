{
 "cells": [
  {
   "cell_type": "code",
   "execution_count": 58,
   "id": "66641cbf",
   "metadata": {},
   "outputs": [
    {
     "name": "stdout",
     "output_type": "stream",
     "text": [
      "day:  21\n",
      "month:  2\n",
      "year:  2023\n",
      "hour:  10\n",
      "minute:  33\n"
     ]
    }
   ],
   "source": [
    "# Q1, Get the current day, month, year, hour, minute and timestamp from datetime module\n",
    "from datetime import date, datetime, timedelta\n",
    "now = datetime.now()\n",
    "print('day: ', now.day)\n",
    "print('month: ', now.month)\n",
    "print('year: ', now.year)\n",
    "print('hour: ', now.hour)\n",
    "print('minute: ',now.minute)"
   ]
  },
  {
   "cell_type": "code",
   "execution_count": 57,
   "id": "c1a9c1dc",
   "metadata": {},
   "outputs": [
    {
     "name": "stdout",
     "output_type": "stream",
     "text": [
      "time:  02/21/2023, 10:19:13\n"
     ]
    }
   ],
   "source": [
    "#Q2. Format the current date using this format: \"%m/%d/%Y, %H:%M:%S\")\n",
    "Time = now.strftime(\"%m/%d/%Y, %H:%M:%S\")\n",
    "print('time: ',Time)"
   ]
  },
  {
   "cell_type": "code",
   "execution_count": 53,
   "id": "01746d26",
   "metadata": {},
   "outputs": [
    {
     "name": "stdout",
     "output_type": "stream",
     "text": [
      "date_object:  2019-12-05 00:00:00\n"
     ]
    }
   ],
   "source": [
    "#Q3. Today is 5 December, 2019. Change this time string to time.\n",
    "date_string = '5 December, 2019'\n",
    "date_object = datetime.strptime(date_string, '%d %B, %Y')\n",
    "print('date_object: ', date_object)"
   ]
  },
  {
   "cell_type": "code",
   "execution_count": 55,
   "id": "dc04dd9f",
   "metadata": {},
   "outputs": [
    {
     "name": "stdout",
     "output_type": "stream",
     "text": [
      "time_diff:  313 days, 13:35:36.844845\n"
     ]
    }
   ],
   "source": [
    "#Q4. Calculate the time difference between now and new year. \n",
    "today = datetime.today()\n",
    "new_year = datetime(year=2024, month=1, day=1)\n",
    "\n",
    "time_diff = new_year - today\n",
    "\n",
    "print('time_diff: ', time_diff)"
   ]
  },
  {
   "cell_type": "code",
   "execution_count": 59,
   "id": "bbe0b658",
   "metadata": {},
   "outputs": [
    {
     "name": "stdout",
     "output_type": "stream",
     "text": [
      "19409 days, 10:34:48.886161\n"
     ]
    }
   ],
   "source": [
    "#Q5. Calculate the time difference between 1 January 1970 and now.\n",
    "t1 = datetime(year=1970, month=1, day=1)\n",
    "t2 = datetime.today()\n",
    "\n",
    "time_diff = t2 - t1\n",
    "\n",
    "print(time_diff)"
   ]
  }
 ],
 "metadata": {
  "kernelspec": {
   "display_name": "Python 3 (ipykernel)",
   "language": "python",
   "name": "python3"
  },
  "language_info": {
   "codemirror_mode": {
    "name": "ipython",
    "version": 3
   },
   "file_extension": ".py",
   "mimetype": "text/x-python",
   "name": "python",
   "nbconvert_exporter": "python",
   "pygments_lexer": "ipython3",
   "version": "3.9.12"
  }
 },
 "nbformat": 4,
 "nbformat_minor": 5
}
