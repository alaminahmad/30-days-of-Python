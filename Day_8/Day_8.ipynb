{
 "cells": [
  {
   "cell_type": "code",
   "execution_count": 1,
   "id": "e7fc9d10",
   "metadata": {},
   "outputs": [
    {
     "data": {
      "text/plain": [
       "{'name': 'Maman Shaba',\n",
       " 'color': 'dark brown',\n",
       " 'breed': 'chihuahua',\n",
       " 'legs': 2,\n",
       " 'age': 2}"
      ]
     },
     "execution_count": 1,
     "metadata": {},
     "output_type": "execute_result"
    }
   ],
   "source": [
    "dog = {}\n",
    "dog = {'name': 'Maman Shaba', \n",
    "      'color': 'dark brown',\n",
    "      'breed': 'chihuahua',\n",
    "      'legs': 2,\n",
    "      'age': 2}\n",
    "dog"
   ]
  },
  {
   "cell_type": "code",
   "execution_count": 11,
   "id": "311aaa4a",
   "metadata": {},
   "outputs": [
    {
     "name": "stdout",
     "output_type": "stream",
     "text": [
      "8\n",
      "['Engineer', 'programmer', 'Solar Installer']\n",
      "dict_keys(['first_name', 'last_name', 'age', 'marital status', 'skills', 'country', 'city', 'address'])\n",
      "dict_values(['Al-amin', 'Ahmad', 24, 'single', ['Engineer', 'programmer', 'Solar Installer'], 'Nigeria', 'Kano', 'Karkasara Quarters, Tarauni L.G.A, Kano State'])\n"
     ]
    }
   ],
   "source": [
    "#first_name, last_name, gender, age, marital status, skills, country, city and address \n",
    "student = {'first_name': 'Al-amin',\n",
    "          'last_name': 'Ahmad',\n",
    "          'age': 24,\n",
    "          'marital status': 'single',\n",
    "          'skills': ['Engineer', 'programmer'],\n",
    "          'country': 'Nigeria',\n",
    "          'city': 'Kano',\n",
    "          'address': 'Karkasara Quarters, Tarauni L.G.A, Kano State'}\n",
    "\n",
    "print(len(student))\n",
    "\n",
    "student.get('skills')\n",
    "\n",
    "student['skills'] += ['Solar Installer']\n",
    "print(student['skills'])\n",
    "print(student.keys())\n",
    "print(student.values())"
   ]
  },
  {
   "cell_type": "code",
   "execution_count": 13,
   "id": "e389fc94",
   "metadata": {},
   "outputs": [
    {
     "name": "stdout",
     "output_type": "stream",
     "text": [
      "dict_items([('first_name', 'Al-amin'), ('last_name', 'Ahmad'), ('age', 24), ('marital status', 'single'), ('skills', ['Engineer', 'programmer', 'Solar Installer']), ('country', 'Nigeria'), ('city', 'Kano'), ('address', 'Karkasara Quarters, Tarauni L.G.A, Kano State')])\n"
     ]
    }
   ],
   "source": [
    "print(student.items())"
   ]
  },
  {
   "cell_type": "code",
   "execution_count": 16,
   "id": "f9a188b8",
   "metadata": {},
   "outputs": [],
   "source": [
    "del student['age']\n",
    "del student"
   ]
  }
 ],
 "metadata": {
  "kernelspec": {
   "display_name": "Python 3 (ipykernel)",
   "language": "python",
   "name": "python3"
  },
  "language_info": {
   "codemirror_mode": {
    "name": "ipython",
    "version": 3
   },
   "file_extension": ".py",
   "mimetype": "text/x-python",
   "name": "python",
   "nbconvert_exporter": "python",
   "pygments_lexer": "ipython3",
   "version": "3.9.12"
  }
 },
 "nbformat": 4,
 "nbformat_minor": 5
}
