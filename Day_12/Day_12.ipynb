{
 "cells": [
  {
   "cell_type": "markdown",
   "id": "e774bd09",
   "metadata": {},
   "source": [
    "Exercises: Level 1"
   ]
  },
  {
   "cell_type": "code",
   "execution_count": 145,
   "id": "6fce8dbd",
   "metadata": {},
   "outputs": [],
   "source": [
    "from random import randint\n",
    "import random\n",
    "import string\n",
    "def random_user_id():\n",
    "    password = []\n",
    "    for i in range(3):\n",
    "        password.append(str(randint(0, 9)))\n",
    "        password.append(string.ascii_letters[randint(0, 27)])\n",
    "    random.shuffle(password)\n",
    "    ans = ''\n",
    "    for i in password:\n",
    "        ans+=i\n",
    "    return ans"
   ]
  },
  {
   "cell_type": "code",
   "execution_count": 146,
   "id": "b83e0d90",
   "metadata": {},
   "outputs": [
    {
     "name": "stdout",
     "output_type": "stream",
     "text": [
      "hxt066\n"
     ]
    }
   ],
   "source": [
    "print(random_user_id())"
   ]
  },
  {
   "cell_type": "code",
   "execution_count": 3,
   "id": "7c77dee4",
   "metadata": {},
   "outputs": [],
   "source": [
    "from random import randint\n",
    "import random\n",
    "import string\n",
    "def random_user_id():\n",
    "    a = int(input())\n",
    "    b = int(input())\n",
    "    for i in range(b):\n",
    "        password = []\n",
    "        for i in range(a):\n",
    "            password.append(str(randint(0, 9)))\n",
    "            password.append(string.ascii_letters[randint(0, 27)])\n",
    "        random.shuffle(password)\n",
    "        password = password[:a]\n",
    "        ans = ''\n",
    "        for i in password:\n",
    "            ans+=i\n",
    "        print(ans)\n"
   ]
  },
  {
   "cell_type": "code",
   "execution_count": 139,
   "id": "7f07c23f",
   "metadata": {},
   "outputs": [
    {
     "name": "stdout",
     "output_type": "stream",
     "text": [
      "16\n",
      "5\n",
      "vp99r24r29xf95c5\n",
      "j94ix1c3l50t3g3r\n",
      "541ggd96BBvA4a6e\n",
      "113180B864y9sbeB\n",
      "8477c8ou8w0Af1re\n"
     ]
    }
   ],
   "source": [
    "random_user_id()"
   ]
  },
  {
   "cell_type": "code",
   "execution_count": 158,
   "id": "367a4c0b",
   "metadata": {},
   "outputs": [],
   "source": [
    "def rgb_color_gen():\n",
    "    print(f'rgb({randint(0, 256)},{randint(0, 256)},{randint(0, 256)})')"
   ]
  },
  {
   "cell_type": "code",
   "execution_count": 166,
   "id": "2d94cf7b",
   "metadata": {},
   "outputs": [
    {
     "name": "stdout",
     "output_type": "stream",
     "text": [
      "rgb(107,251,46)\n"
     ]
    }
   ],
   "source": [
    "rgb_color_gen()"
   ]
  },
  {
   "cell_type": "markdown",
   "id": "c145a24a",
   "metadata": {},
   "source": [
    "Exercises: Level 2"
   ]
  },
  {
   "cell_type": "code",
   "execution_count": 222,
   "id": "6b67cf01",
   "metadata": {},
   "outputs": [],
   "source": [
    "def list_of_hexa_colors():\n",
    "    hexa_lists = [0, 1, 2, 3, 4, 5, 6, 7, 8, 9, 'a', 'b', 'c', 'd', 'e', 'f']\n",
    "    random_indices = random.sample(range(0, 16), 6)\n",
    "    hexa = '#'\n",
    "    for i in random_indices:\n",
    "        hexa += str(hexa_lists[i])\n",
    "    return hexa"
   ]
  },
  {
   "cell_type": "code",
   "execution_count": 226,
   "id": "23d2dc1b",
   "metadata": {},
   "outputs": [
    {
     "data": {
      "text/plain": [
       "'#db3056'"
      ]
     },
     "execution_count": 226,
     "metadata": {},
     "output_type": "execute_result"
    }
   ],
   "source": [
    "list_of_hexa_colors()"
   ]
  },
  {
   "cell_type": "code",
   "execution_count": 254,
   "id": "48e6c60d",
   "metadata": {},
   "outputs": [],
   "source": [
    "def generate_colors(color, n):\n",
    "    if color == 'hexa':\n",
    "        hexa_lists = [0, 1, 2, 3, 4, 5, 6, 7, 8, 9, 'a', 'b', 'c', 'd', 'e', 'f']\n",
    "        hexa_list = []\n",
    "        for i in range(n):\n",
    "            random_indices = random.sample(range(0, 16), 6)\n",
    "            hexa = '#'\n",
    "            for i in random_indices:\n",
    "                hexa += str(hexa_lists[i])\n",
    "            hexa_list.append(hexa)\n",
    "        return hexa_list\n",
    "    elif color == 'rgb':\n",
    "        rgb = []\n",
    "        for i in range(n):\n",
    "            rgb.append(f'rgb({randint(0, 256)},{randint(0, 256)},{randint(0, 256)})')\n",
    "        return rgb\n",
    "        "
   ]
  },
  {
   "cell_type": "code",
   "execution_count": 256,
   "id": "45dbe51c",
   "metadata": {},
   "outputs": [
    {
     "data": {
      "text/plain": [
       "['#c2e8ab', '#fcba78', '#b62758']"
      ]
     },
     "execution_count": 256,
     "metadata": {},
     "output_type": "execute_result"
    }
   ],
   "source": [
    "generate_colors('hexa', 3)"
   ]
  },
  {
   "cell_type": "markdown",
   "id": "92a9106a",
   "metadata": {},
   "source": [
    "Exercises: Level 3"
   ]
  },
  {
   "cell_type": "code",
   "execution_count": 116,
   "id": "9caf7c72",
   "metadata": {},
   "outputs": [],
   "source": [
    "def shuffle_list(lst):\n",
    "    random_indices = random.sample(range(0, len(lst)), len(lst))\n",
    "    for i in range(len(lst)):\n",
    "        lst[i], lst[random_indices[i]] = lst[random_indices[i]], lst[i]\n",
    "    return lst"
   ]
  },
  {
   "cell_type": "code",
   "execution_count": 189,
   "id": "a4cad9de",
   "metadata": {
    "scrolled": true
   },
   "outputs": [
    {
     "data": {
      "text/plain": [
       "[1, 2, 3, 2, 5, 4, 6]"
      ]
     },
     "execution_count": 189,
     "metadata": {},
     "output_type": "execute_result"
    }
   ],
   "source": [
    "shuffle_list([3,2,1,2,4,5,6])"
   ]
  },
  {
   "cell_type": "code",
   "execution_count": 192,
   "id": "608072f5",
   "metadata": {},
   "outputs": [],
   "source": [
    "def random_unique():  \n",
    "    return random.sample(range(0, 9), 7)"
   ]
  },
  {
   "cell_type": "code",
   "execution_count": 207,
   "id": "a1f40ed4",
   "metadata": {},
   "outputs": [
    {
     "data": {
      "text/plain": [
       "[0, 2, 6, 4, 7, 3, 5]"
      ]
     },
     "execution_count": 207,
     "metadata": {},
     "output_type": "execute_result"
    }
   ],
   "source": [
    "random_unique()"
   ]
  }
 ],
 "metadata": {
  "kernelspec": {
   "display_name": "Python 3 (ipykernel)",
   "language": "python",
   "name": "python3"
  },
  "language_info": {
   "codemirror_mode": {
    "name": "ipython",
    "version": 3
   },
   "file_extension": ".py",
   "mimetype": "text/x-python",
   "name": "python",
   "nbconvert_exporter": "python",
   "pygments_lexer": "ipython3",
   "version": "3.9.12"
  }
 },
 "nbformat": 4,
 "nbformat_minor": 5
}
