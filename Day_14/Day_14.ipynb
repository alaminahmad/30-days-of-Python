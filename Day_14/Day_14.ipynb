{
 "cells": [
  {
   "cell_type": "markdown",
   "id": "24289147",
   "metadata": {},
   "source": [
    "Exercises: Level 1"
   ]
  },
  {
   "cell_type": "markdown",
   "id": "5a11a755",
   "metadata": {},
   "source": [
    "1. Map, filter & reduce takes a function and iterable as input.\n",
    "map pass through each element of the iterable and apply the function to it. the reduce has the length as the input iterable.\n",
    "filter reduces the iterable by only taking the argument where the function returns True on the iterable\n",
    "reduce output "
   ]
  },
  {
   "cell_type": "markdown",
   "id": "109d4e57",
   "metadata": {},
   "source": [
    "2. a decorator allows users to add functionality to an existing function.\n",
    "a closure is a way which an  outer function with inner function inside will return the output of the inner function\n",
    "a higher order function is a funtion that takes another function as a parameter, this includes map, filter and reduce function in python."
   ]
  },
  {
   "cell_type": "code",
   "execution_count": 35,
   "id": "c7b007b4",
   "metadata": {},
   "outputs": [],
   "source": [
    "import re\n",
    "def name_start_vowel(counties):\n",
    "    for city in countries:\n",
    "        if re.search('^[AEIOUaeiou]', city):\n",
    "            print(city)\n"
   ]
  },
  {
   "cell_type": "code",
   "execution_count": 36,
   "id": "945ddefd",
   "metadata": {},
   "outputs": [
    {
     "name": "stdout",
     "output_type": "stream",
     "text": [
      "Estonia\n",
      "Iceland\n"
     ]
    }
   ],
   "source": [
    "countries = ['Estonia', 'Finland', 'Sweden', 'Denmark', 'Norway', 'Iceland']\n",
    "names = ['Asabeneh', 'Lidiya', 'Ermias', 'Abraham']\n",
    "numbers = [1, 2, 3, 4, 5, 6, 7, 8, 9, 10]\n",
    "\n",
    "name_start_vowel(countries)"
   ]
  },
  {
   "cell_type": "code",
   "execution_count": 37,
   "id": "d5bfd382",
   "metadata": {},
   "outputs": [
    {
     "name": "stdout",
     "output_type": "stream",
     "text": [
      "Estonia\n",
      "Finland\n",
      "Sweden\n",
      "Denmark\n",
      "Norway\n",
      "Iceland\n"
     ]
    }
   ],
   "source": [
    "for city in countries:\n",
    "    print(city)"
   ]
  },
  {
   "cell_type": "code",
   "execution_count": 38,
   "id": "f2f25218",
   "metadata": {},
   "outputs": [
    {
     "name": "stdout",
     "output_type": "stream",
     "text": [
      "Asabeneh\n",
      "Lidiya\n",
      "Ermias\n",
      "Abraham\n"
     ]
    }
   ],
   "source": [
    "for name in names:\n",
    "    print(name)"
   ]
  },
  {
   "cell_type": "code",
   "execution_count": 39,
   "id": "14b712d6",
   "metadata": {},
   "outputs": [
    {
     "name": "stdout",
     "output_type": "stream",
     "text": [
      "1\n",
      "2\n",
      "3\n",
      "4\n",
      "5\n",
      "6\n",
      "7\n",
      "8\n",
      "9\n",
      "10\n"
     ]
    }
   ],
   "source": [
    "for number in numbers:\n",
    "    print(number)"
   ]
  },
  {
   "cell_type": "code",
   "execution_count": 48,
   "id": "f3db9c24",
   "metadata": {},
   "outputs": [
    {
     "data": {
      "text/plain": [
       "['ESTONIA', 'FINLAND', 'SWEDEN', 'DENMARK', 'NORWAY', 'ICELAND']"
      ]
     },
     "execution_count": 48,
     "metadata": {},
     "output_type": "execute_result"
    }
   ],
   "source": [
    "countries_upper = list(map(lambda x: x.upper(), countries))\n",
    "countries_upper"
   ]
  },
  {
   "cell_type": "code",
   "execution_count": 50,
   "id": "82d4a876",
   "metadata": {},
   "outputs": [
    {
     "data": {
      "text/plain": [
       "[1, 4, 9, 16, 25, 36, 49, 64, 81, 100]"
      ]
     },
     "execution_count": 50,
     "metadata": {},
     "output_type": "execute_result"
    }
   ],
   "source": [
    "square_num = list(map(lambda x: x**2, numbers))\n",
    "square_num"
   ]
  },
  {
   "cell_type": "code",
   "execution_count": 51,
   "id": "4f10e594",
   "metadata": {},
   "outputs": [
    {
     "data": {
      "text/plain": [
       "['ASABENEH', 'LIDIYA', 'ERMIAS', 'ABRAHAM']"
      ]
     },
     "execution_count": 51,
     "metadata": {},
     "output_type": "execute_result"
    }
   ],
   "source": [
    "names_upper = list(map(lambda x: x.upper(), names))\n",
    "names_upper"
   ]
  },
  {
   "cell_type": "code",
   "execution_count": 57,
   "id": "10458808",
   "metadata": {},
   "outputs": [
    {
     "data": {
      "text/plain": [
       "['Finland', 'Iceland']"
      ]
     },
     "execution_count": 57,
     "metadata": {},
     "output_type": "execute_result"
    }
   ],
   "source": [
    "def find_land(city):\n",
    "    if re.search('land', city):\n",
    "        return True\n",
    "    return False\n",
    "\n",
    "list(filter(find_land, countries))"
   ]
  },
  {
   "cell_type": "code",
   "execution_count": 58,
   "id": "0128d2fe",
   "metadata": {},
   "outputs": [
    {
     "data": {
      "text/plain": [
       "['Sweden', 'Norway']"
      ]
     },
     "execution_count": 58,
     "metadata": {},
     "output_type": "execute_result"
    }
   ],
   "source": [
    "def find_six_chr(city):\n",
    "    if len(city) == 6:\n",
    "        return True\n",
    "    return False\n",
    "\n",
    "list(filter(find_six_chr, countries))"
   ]
  },
  {
   "cell_type": "code",
   "execution_count": 59,
   "id": "6c979429",
   "metadata": {},
   "outputs": [
    {
     "data": {
      "text/plain": [
       "['Estonia', 'Finland', 'Sweden', 'Denmark', 'Norway', 'Iceland']"
      ]
     },
     "execution_count": 59,
     "metadata": {},
     "output_type": "execute_result"
    }
   ],
   "source": [
    "def find_six_chr(city):\n",
    "    if len(city) >= 6:\n",
    "        return True\n",
    "    return False\n",
    "\n",
    "list(filter(find_six_chr, countries))"
   ]
  },
  {
   "cell_type": "code",
   "execution_count": 60,
   "id": "33f6ca00",
   "metadata": {},
   "outputs": [
    {
     "data": {
      "text/plain": [
       "['Estonia']"
      ]
     },
     "execution_count": 60,
     "metadata": {},
     "output_type": "execute_result"
    }
   ],
   "source": [
    "def start_with_E(city):\n",
    "    if re.search('^E', city):\n",
    "        return True\n",
    "    return False\n",
    "\n",
    "list(filter(start_with_E, countries))"
   ]
  },
  {
   "cell_type": "code",
   "execution_count": 61,
   "id": "653def83",
   "metadata": {},
   "outputs": [],
   "source": [
    "def get_string_lists(lists):\n",
    "    str_lists = []\n",
    "    for lst in lists:\n",
    "        if type(lst) == str:\n",
    "            str_lists.append(lst)\n",
    "    return str_lists"
   ]
  },
  {
   "cell_type": "code",
   "execution_count": 62,
   "id": "12d8af55",
   "metadata": {},
   "outputs": [
    {
     "data": {
      "text/plain": [
       "['this', 'and']"
      ]
     },
     "execution_count": 62,
     "metadata": {},
     "output_type": "execute_result"
    }
   ],
   "source": [
    "get_string_lists(['this', 2, 'and', 3])"
   ]
  },
  {
   "cell_type": "code",
   "execution_count": 65,
   "id": "b4b319c2",
   "metadata": {},
   "outputs": [
    {
     "data": {
      "text/plain": [
       "55"
      ]
     },
     "execution_count": 65,
     "metadata": {},
     "output_type": "execute_result"
    }
   ],
   "source": [
    "from functools import reduce\n",
    "def sum_numbers(a, b):\n",
    "    return a+b\n",
    "\n",
    "reduce(sum_numbers, numbers)"
   ]
  },
  {
   "cell_type": "code",
   "execution_count": 70,
   "id": "c19ebb34",
   "metadata": {},
   "outputs": [
    {
     "data": {
      "text/plain": [
       "'Estonia Finland Sweden Denmark Norway and Iceland are north European countries'"
      ]
     },
     "execution_count": 70,
     "metadata": {},
     "output_type": "execute_result"
    }
   ],
   "source": [
    "reduce(lambda x,y: x+' '+ y, countries[0:-1]) +' and ' + countries[-1] + \" are north European countries\""
   ]
  },
  {
   "cell_type": "code",
   "execution_count": 1,
   "id": "be91b58f",
   "metadata": {},
   "outputs": [],
   "source": [
    "countries = [\n",
    "  'Afghanistan',\n",
    "  'Albania',\n",
    "  'Algeria',\n",
    "  'Andorra',\n",
    "  'Angola',\n",
    "  'Antigua and Barbuda',\n",
    "  'Argentina',\n",
    "  'Armenia',\n",
    "  'Australia',\n",
    "  'Austria',\n",
    "  'Azerbaijan',\n",
    "  'Bahamas',\n",
    "  'Bahrain',\n",
    "  'Bangladesh',\n",
    "  'Barbados',\n",
    "  'Belarus',\n",
    "  'Belgium',\n",
    "  'Belize',\n",
    "  'Benin',\n",
    "  'Bhutan',\n",
    "  'Bolivia',\n",
    "  'Bosnia and Herzegovina',\n",
    "  'Botswana',\n",
    "  'Brazil',\n",
    "  'Brunei',\n",
    "  'Bulgaria',\n",
    "  'Burkina Faso',\n",
    "  'Burundi',\n",
    "  'Cambodia',\n",
    "  'Cameroon',\n",
    "  'Canada',\n",
    "  'Cape Verde',\n",
    "  'Central African Republic',\n",
    "  'Chad',\n",
    "  'Chile',\n",
    "  'China',\n",
    "  'Colombi',\n",
    "  'Comoros',\n",
    "  'Congo (Brazzaville)',\n",
    "  'Congo',\n",
    "  'Costa Rica',\n",
    "  \"Cote d'Ivoire\",\n",
    "  'Croatia',\n",
    "  'Cuba',\n",
    "  'Cyprus',\n",
    "  'Czech Republic',\n",
    "  'Denmark',\n",
    "  'Djibouti',\n",
    "  'Dominica',\n",
    "  'Dominican Republic',\n",
    "  'East Timor (Timor Timur)',\n",
    "  'Ecuador',\n",
    "  'Egypt',\n",
    "  'El Salvador',\n",
    "  'Equatorial Guinea',\n",
    "  'Eritrea',\n",
    "  'Estonia',\n",
    "  'Ethiopia',\n",
    "  'Fiji',\n",
    "  'Finland',\n",
    "  'France',\n",
    "  'Gabon',\n",
    "  'Gambia, The',\n",
    "  'Georgia',\n",
    "  'Germany',\n",
    "  'Ghana',\n",
    "  'Greece',\n",
    "  'Grenada',\n",
    "  'Guatemala',\n",
    "  'Guinea',\n",
    "  'Guinea-Bissau',\n",
    "  'Guyana',\n",
    "  'Haiti',\n",
    "  'Honduras',\n",
    "  'Hungary',\n",
    "  'Iceland',\n",
    "  'India',\n",
    "  'Indonesia',\n",
    "  'Iran',\n",
    "  'Iraq',\n",
    "  'Ireland',\n",
    "  'Israel',\n",
    "  'Italy',\n",
    "  'Jamaica',\n",
    "  'Japan',\n",
    "  'Jordan',\n",
    "  'Kazakhstan',\n",
    "  'Kenya',\n",
    "  'Kiribati',\n",
    "  'Korea, North',\n",
    "  'Korea, South',\n",
    "  'Kuwait',\n",
    "  'Kyrgyzstan',\n",
    "  'Laos',\n",
    "  'Latvia',\n",
    "  'Lebanon',\n",
    "  'Lesotho',\n",
    "  'Liberia',\n",
    "  'Libya',\n",
    "  'Liechtenstein',\n",
    "  'Lithuania',\n",
    "  'Luxembourg',\n",
    "  'Macedonia',\n",
    "  'Madagascar',\n",
    "  'Malawi',\n",
    "  'Malaysia',\n",
    "  'Maldives',\n",
    "  'Mali',\n",
    "  'Malta',\n",
    "  'Marshall Islands',\n",
    "  'Mauritania',\n",
    "  'Mauritius',\n",
    "  'Mexico',\n",
    "  'Micronesia',\n",
    "  'Moldova',\n",
    "  'Monaco',\n",
    "  'Mongolia',\n",
    "  'Morocco',\n",
    "  'Mozambique',\n",
    "  'Myanmar',\n",
    "  'Namibia',\n",
    "  'Nauru',\n",
    "  'Nepal',\n",
    "  'Netherlands',\n",
    "  'New Zealand',\n",
    "  'Nicaragua',\n",
    "  'Niger',\n",
    "  'Nigeria',\n",
    "  'Norway',\n",
    "  'Oman',\n",
    "  'Pakistan',\n",
    "  'Palau',\n",
    "  'Panama',\n",
    "  'Papua New Guinea',\n",
    "  'Paraguay',\n",
    "  'Peru',\n",
    "  'Philippines',\n",
    "  'Poland',\n",
    "  'Portugal',\n",
    "  'Qatar',\n",
    "  'Romania',\n",
    "  'Russia',\n",
    "  'Rwanda',\n",
    "  'Saint Kitts and Nevis',\n",
    "  'Saint Lucia',\n",
    "  'Saint Vincent',\n",
    "  'Samoa',\n",
    "  'San Marino',\n",
    "  'Sao Tome and Principe',\n",
    "  'Saudi Arabia',\n",
    "  'Senegal',\n",
    "  'Serbia and Montenegro',\n",
    "  'Seychelles',\n",
    "  'Sierra Leone',\n",
    "  'Singapore',\n",
    "  'Slovakia',\n",
    "  'Slovenia',\n",
    "  'Solomon Islands',\n",
    "  'Somalia',\n",
    "  'South Africa',\n",
    "  'Spain',\n",
    "  'Sri Lanka',\n",
    "  'Sudan',\n",
    "  'Suriname',\n",
    "  'Swaziland',\n",
    "  'Sweden',\n",
    "  'Switzerland',\n",
    "  'Syria',\n",
    "  'Taiwan',\n",
    "  'Tajikistan',\n",
    "  'Tanzania',\n",
    "  'Thailand',\n",
    "  'Togo',\n",
    "  'Tonga',\n",
    "  'Trinidad and Tobago',\n",
    "  'Tunisia',\n",
    "  'Turkey',\n",
    "  'Turkmenistan',\n",
    "  'Tuvalu',\n",
    "  'Uganda',\n",
    "  'Ukraine',\n",
    "  'United Arab Emirates',\n",
    "  'United Kingdom',\n",
    "  'United States',\n",
    "  'Uruguay',\n",
    "  'Uzbekistan',\n",
    "  'Vanuatu',\n",
    "  'Vatican City',\n",
    "  'Venezuela',\n",
    "  'Vietnam',\n",
    "  'Yemen',\n",
    "  'Zambia',\n",
    "  'Zimbabwe',\n",
    "];"
   ]
  },
  {
   "cell_type": "code",
   "execution_count": 2,
   "id": "454f90bf",
   "metadata": {},
   "outputs": [],
   "source": [
    "import re\n",
    "def categorize_countries(countries):\n",
    "    for city in countries:\n",
    "        if re.search('land', city):\n",
    "            print(city)\n",
    "        if re.search('ia', city):\n",
    "            print(city)\n",
    "        if re.search('island', city):\n",
    "            print(city)\n",
    "        if re.search('stan', city):\n",
    "            print(city)\n",
    "        \n",
    "    "
   ]
  },
  {
   "cell_type": "code",
   "execution_count": 4,
   "id": "d935af27",
   "metadata": {},
   "outputs": [
    {
     "name": "stdout",
     "output_type": "stream",
     "text": [
      "Afghanistan\n",
      "Albania\n",
      "Algeria\n",
      "Armenia\n",
      "Australia\n",
      "Austria\n",
      "Bolivia\n",
      "Bosnia and Herzegovina\n",
      "Bulgaria\n",
      "Cambodia\n",
      "Croatia\n",
      "Equatorial Guinea\n",
      "Estonia\n",
      "Ethiopia\n",
      "Finland\n",
      "Gambia, The\n",
      "Georgia\n",
      "Iceland\n",
      "India\n",
      "Indonesia\n",
      "Ireland\n",
      "Kazakhstan\n",
      "Kyrgyzstan\n",
      "Latvia\n",
      "Liberia\n",
      "Lithuania\n",
      "Macedonia\n",
      "Malaysia\n",
      "Marshall Islands\n",
      "Mauritania\n",
      "Micronesia\n",
      "Mongolia\n",
      "Namibia\n",
      "Netherlands\n",
      "New Zealand\n",
      "Nigeria\n",
      "Pakistan\n",
      "Poland\n",
      "Romania\n",
      "Russia\n",
      "Saint Lucia\n",
      "Saudi Arabia\n",
      "Serbia and Montenegro\n",
      "Slovakia\n",
      "Slovenia\n",
      "Solomon Islands\n",
      "Somalia\n",
      "Swaziland\n",
      "Switzerland\n",
      "Syria\n",
      "Tajikistan\n",
      "Tanzania\n",
      "Thailand\n",
      "Tunisia\n",
      "Turkmenistan\n",
      "Uzbekistan\n",
      "Zambia\n"
     ]
    }
   ],
   "source": [
    "categorize_countries(countries)"
   ]
  },
  {
   "cell_type": "code",
   "execution_count": 5,
   "id": "0730110e",
   "metadata": {},
   "outputs": [],
   "source": [
    "def dictionaries(countries):\n",
    "    lst = []\n",
    "    for city in countries:\n",
    "        lst.append(city[0])"
   ]
  },
  {
   "cell_type": "code",
   "execution_count": 22,
   "id": "fd71b7da",
   "metadata": {},
   "outputs": [],
   "source": [
    "lst = []\n",
    "for city in countries:\n",
    "    lst.append(city[0])\n",
    "lst = sorted(list(set(lst)))\n",
    "dct = {}\n",
    "for letter in lst:\n",
    "    dct[letter] = []\n",
    "\n",
    "for city in countries:\n",
    "    for letter in lst:\n",
    "        if city[0] == letter:\n",
    "            dct[letter].append(city)"
   ]
  },
  {
   "cell_type": "code",
   "execution_count": 23,
   "id": "7686ef86",
   "metadata": {},
   "outputs": [
    {
     "data": {
      "text/plain": [
       "{'A': ['Afghanistan',\n",
       "  'Albania',\n",
       "  'Algeria',\n",
       "  'Andorra',\n",
       "  'Angola',\n",
       "  'Antigua and Barbuda',\n",
       "  'Argentina',\n",
       "  'Armenia',\n",
       "  'Australia',\n",
       "  'Austria',\n",
       "  'Azerbaijan'],\n",
       " 'B': ['Bahamas',\n",
       "  'Bahrain',\n",
       "  'Bangladesh',\n",
       "  'Barbados',\n",
       "  'Belarus',\n",
       "  'Belgium',\n",
       "  'Belize',\n",
       "  'Benin',\n",
       "  'Bhutan',\n",
       "  'Bolivia',\n",
       "  'Bosnia and Herzegovina',\n",
       "  'Botswana',\n",
       "  'Brazil',\n",
       "  'Brunei',\n",
       "  'Bulgaria',\n",
       "  'Burkina Faso',\n",
       "  'Burundi'],\n",
       " 'C': ['Cambodia',\n",
       "  'Cameroon',\n",
       "  'Canada',\n",
       "  'Cape Verde',\n",
       "  'Central African Republic',\n",
       "  'Chad',\n",
       "  'Chile',\n",
       "  'China',\n",
       "  'Colombi',\n",
       "  'Comoros',\n",
       "  'Congo (Brazzaville)',\n",
       "  'Congo',\n",
       "  'Costa Rica',\n",
       "  \"Cote d'Ivoire\",\n",
       "  'Croatia',\n",
       "  'Cuba',\n",
       "  'Cyprus',\n",
       "  'Czech Republic'],\n",
       " 'D': ['Denmark', 'Djibouti', 'Dominica', 'Dominican Republic'],\n",
       " 'E': ['East Timor (Timor Timur)',\n",
       "  'Ecuador',\n",
       "  'Egypt',\n",
       "  'El Salvador',\n",
       "  'Equatorial Guinea',\n",
       "  'Eritrea',\n",
       "  'Estonia',\n",
       "  'Ethiopia'],\n",
       " 'F': ['Fiji', 'Finland', 'France'],\n",
       " 'G': ['Gabon',\n",
       "  'Gambia, The',\n",
       "  'Georgia',\n",
       "  'Germany',\n",
       "  'Ghana',\n",
       "  'Greece',\n",
       "  'Grenada',\n",
       "  'Guatemala',\n",
       "  'Guinea',\n",
       "  'Guinea-Bissau',\n",
       "  'Guyana'],\n",
       " 'H': ['Haiti', 'Honduras', 'Hungary'],\n",
       " 'I': ['Iceland',\n",
       "  'India',\n",
       "  'Indonesia',\n",
       "  'Iran',\n",
       "  'Iraq',\n",
       "  'Ireland',\n",
       "  'Israel',\n",
       "  'Italy'],\n",
       " 'J': ['Jamaica', 'Japan', 'Jordan'],\n",
       " 'K': ['Kazakhstan',\n",
       "  'Kenya',\n",
       "  'Kiribati',\n",
       "  'Korea, North',\n",
       "  'Korea, South',\n",
       "  'Kuwait',\n",
       "  'Kyrgyzstan'],\n",
       " 'L': ['Laos',\n",
       "  'Latvia',\n",
       "  'Lebanon',\n",
       "  'Lesotho',\n",
       "  'Liberia',\n",
       "  'Libya',\n",
       "  'Liechtenstein',\n",
       "  'Lithuania',\n",
       "  'Luxembourg'],\n",
       " 'M': ['Macedonia',\n",
       "  'Madagascar',\n",
       "  'Malawi',\n",
       "  'Malaysia',\n",
       "  'Maldives',\n",
       "  'Mali',\n",
       "  'Malta',\n",
       "  'Marshall Islands',\n",
       "  'Mauritania',\n",
       "  'Mauritius',\n",
       "  'Mexico',\n",
       "  'Micronesia',\n",
       "  'Moldova',\n",
       "  'Monaco',\n",
       "  'Mongolia',\n",
       "  'Morocco',\n",
       "  'Mozambique',\n",
       "  'Myanmar'],\n",
       " 'N': ['Namibia',\n",
       "  'Nauru',\n",
       "  'Nepal',\n",
       "  'Netherlands',\n",
       "  'New Zealand',\n",
       "  'Nicaragua',\n",
       "  'Niger',\n",
       "  'Nigeria',\n",
       "  'Norway'],\n",
       " 'O': ['Oman'],\n",
       " 'P': ['Pakistan',\n",
       "  'Palau',\n",
       "  'Panama',\n",
       "  'Papua New Guinea',\n",
       "  'Paraguay',\n",
       "  'Peru',\n",
       "  'Philippines',\n",
       "  'Poland',\n",
       "  'Portugal'],\n",
       " 'Q': ['Qatar'],\n",
       " 'R': ['Romania', 'Russia', 'Rwanda'],\n",
       " 'S': ['Saint Kitts and Nevis',\n",
       "  'Saint Lucia',\n",
       "  'Saint Vincent',\n",
       "  'Samoa',\n",
       "  'San Marino',\n",
       "  'Sao Tome and Principe',\n",
       "  'Saudi Arabia',\n",
       "  'Senegal',\n",
       "  'Serbia and Montenegro',\n",
       "  'Seychelles',\n",
       "  'Sierra Leone',\n",
       "  'Singapore',\n",
       "  'Slovakia',\n",
       "  'Slovenia',\n",
       "  'Solomon Islands',\n",
       "  'Somalia',\n",
       "  'South Africa',\n",
       "  'Spain',\n",
       "  'Sri Lanka',\n",
       "  'Sudan',\n",
       "  'Suriname',\n",
       "  'Swaziland',\n",
       "  'Sweden',\n",
       "  'Switzerland',\n",
       "  'Syria'],\n",
       " 'T': ['Taiwan',\n",
       "  'Tajikistan',\n",
       "  'Tanzania',\n",
       "  'Thailand',\n",
       "  'Togo',\n",
       "  'Tonga',\n",
       "  'Trinidad and Tobago',\n",
       "  'Tunisia',\n",
       "  'Turkey',\n",
       "  'Turkmenistan',\n",
       "  'Tuvalu'],\n",
       " 'U': ['Uganda',\n",
       "  'Ukraine',\n",
       "  'United Arab Emirates',\n",
       "  'United Kingdom',\n",
       "  'United States',\n",
       "  'Uruguay',\n",
       "  'Uzbekistan'],\n",
       " 'V': ['Vanuatu', 'Vatican City', 'Venezuela', 'Vietnam'],\n",
       " 'Y': ['Yemen'],\n",
       " 'Z': ['Zambia', 'Zimbabwe']}"
      ]
     },
     "execution_count": 23,
     "metadata": {},
     "output_type": "execute_result"
    }
   ],
   "source": [
    "dct"
   ]
  },
  {
   "cell_type": "code",
   "execution_count": 24,
   "id": "4dc05596",
   "metadata": {},
   "outputs": [],
   "source": [
    "def get_first_ten_countries(countries):\n",
    "    return countries[-10:]"
   ]
  },
  {
   "cell_type": "code",
   "execution_count": 25,
   "id": "3d9288db",
   "metadata": {},
   "outputs": [
    {
     "data": {
      "text/plain": [
       "['United States',\n",
       " 'Uruguay',\n",
       " 'Uzbekistan',\n",
       " 'Vanuatu',\n",
       " 'Vatican City',\n",
       " 'Venezuela',\n",
       " 'Vietnam',\n",
       " 'Yemen',\n",
       " 'Zambia',\n",
       " 'Zimbabwe']"
      ]
     },
     "execution_count": 25,
     "metadata": {},
     "output_type": "execute_result"
    }
   ],
   "source": [
    "get_first_ten_countries(countries)"
   ]
  },
  {
   "cell_type": "markdown",
   "id": "f1572e29",
   "metadata": {},
   "source": [
    "Exercises: Level 3"
   ]
  }
 ],
 "metadata": {
  "kernelspec": {
   "display_name": "Python 3 (ipykernel)",
   "language": "python",
   "name": "python3"
  },
  "language_info": {
   "codemirror_mode": {
    "name": "ipython",
    "version": 3
   },
   "file_extension": ".py",
   "mimetype": "text/x-python",
   "name": "python",
   "nbconvert_exporter": "python",
   "pygments_lexer": "ipython3",
   "version": "3.9.12"
  }
 },
 "nbformat": 4,
 "nbformat_minor": 5
}
