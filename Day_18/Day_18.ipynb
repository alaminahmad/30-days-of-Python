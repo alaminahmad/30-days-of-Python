{
 "cells": [
  {
   "cell_type": "markdown",
   "id": "f1542ed0",
   "metadata": {},
   "source": [
    "EXERCISE: LEVEL 1"
   ]
  },
  {
   "cell_type": "code",
   "execution_count": 76,
   "id": "ceb6df0c",
   "metadata": {},
   "outputs": [
    {
     "data": {
      "text/plain": [
       "[('I', 3),\n",
       " ('love', 6),\n",
       " ('teaching.', 2),\n",
       " ('If', 1),\n",
       " ('you', 5),\n",
       " ('do', 2),\n",
       " ('not', 2),\n",
       " ('teaching', 2),\n",
       " ('what', 2),\n",
       " ('else', 2),\n",
       " ('can', 3),\n",
       " ('love.', 6),\n",
       " ('Python', 1),\n",
       " ('if', 1),\n",
       " ('something', 1),\n",
       " ('which', 1),\n",
       " ('give', 1),\n",
       " ('all', 1),\n",
       " ('the', 1),\n",
       " ('capabilities', 1),\n",
       " ('to', 1),\n",
       " ('develop', 1),\n",
       " ('an', 4),\n",
       " ('application', 1)]"
      ]
     },
     "execution_count": 76,
     "metadata": {},
     "output_type": "execute_result"
    }
   ],
   "source": [
    "paragraph = '''I love teaching. If you do not love teaching what else can you love. \n",
    " I love Python if you do not love something which can give you all the \n",
    " capabilities to develop an application what else can you love.'''\n",
    "\n",
    "length = []\n",
    "\n",
    "for word in paragraph.split():\n",
    "    match = re.findall(word, paragraph)\n",
    "    dst = len(match)\n",
    "    if (word, dst) not in length:\n",
    "        length.append((word, len(match)))\n",
    "length"
   ]
  },
  {
   "cell_type": "markdown",
   "id": "35a32dc5",
   "metadata": {},
   "source": [
    "EXERCISE LEVEL 2"
   ]
  },
  {
   "cell_type": "code",
   "execution_count": 60,
   "id": "f407ffd7",
   "metadata": {},
   "outputs": [],
   "source": [
    "def is_valid_variable(variable):\n",
    "        if re.search(' ', variable):\n",
    "            return False\n",
    "        elif re.search('^\\d', variable):\n",
    "            return False\n",
    "        elif re.search('-', variable):\n",
    "            return False\n",
    "        return True"
   ]
  },
  {
   "cell_type": "code",
   "execution_count": 77,
   "id": "4e6f6af3",
   "metadata": {},
   "outputs": [
    {
     "name": "stdout",
     "output_type": "stream",
     "text": [
      "True\n",
      "False\n",
      "False\n",
      "True\n"
     ]
    }
   ],
   "source": [
    "print(is_valid_variable('first_name')) \n",
    "print(is_valid_variable('first-name')) \n",
    "print(is_valid_variable('1first_name')) \n",
    "print(is_valid_variable('firstname')) "
   ]
  },
  {
   "cell_type": "markdown",
   "id": "95a22fd8",
   "metadata": {},
   "source": [
    "EXERCISE: LEVEL 3"
   ]
  },
  {
   "cell_type": "code",
   "execution_count": 66,
   "id": "fbee79b4",
   "metadata": {},
   "outputs": [],
   "source": [
    "sentence = '''%I $am@% a %tea@cher%, &and& I lo%#ve %tea@ching%;. \n",
    "There $is nothing; &as& mo@re rewarding as educa@ting &and& @emp%o@wering peo@ple. ;\n",
    "I found tea@ching m%o@re \n",
    "interesting tha@n any other %jo@bs. %Do@es thi%s mo@tivate yo@u to be a tea@cher!?'''"
   ]
  },
  {
   "cell_type": "code",
   "execution_count": 72,
   "id": "eb255f6f",
   "metadata": {},
   "outputs": [],
   "source": [
    "def clean_text(text):\n",
    "    text = re.sub('[@#$%&]', '', text)\n",
    "    text = re.split('\\n', text)\n",
    "    return text"
   ]
  },
  {
   "cell_type": "code",
   "execution_count": 74,
   "id": "23f0613e",
   "metadata": {},
   "outputs": [
    {
     "data": {
      "text/plain": [
       "['I am a teacher, and I love teaching;. ',\n",
       " 'There is nothing; as more rewarding as educating and empowering people. ;',\n",
       " 'I found teaching more ',\n",
       " 'interesting than any other jobs. Does this motivate you to be a teacher!?']"
      ]
     },
     "execution_count": 74,
     "metadata": {},
     "output_type": "execute_result"
    }
   ],
   "source": [
    "clean_text(sentence)"
   ]
  }
 ],
 "metadata": {
  "kernelspec": {
   "display_name": "Python 3 (ipykernel)",
   "language": "python",
   "name": "python3"
  },
  "language_info": {
   "codemirror_mode": {
    "name": "ipython",
    "version": 3
   },
   "file_extension": ".py",
   "mimetype": "text/x-python",
   "name": "python",
   "nbconvert_exporter": "python",
   "pygments_lexer": "ipython3",
   "version": "3.9.12"
  }
 },
 "nbformat": 4,
 "nbformat_minor": 5
}
