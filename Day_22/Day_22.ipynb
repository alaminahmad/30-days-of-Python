{
 "cells": [
  {
   "cell_type": "markdown",
   "id": "50420659",
   "metadata": {},
   "source": [
    "Exercises: Day 22"
   ]
  },
  {
   "cell_type": "code",
   "execution_count": 34,
   "id": "d3bb5d7b",
   "metadata": {},
   "outputs": [],
   "source": [
    "import requests\n",
    "import json\n",
    "from bs4 import BeautifulSoup"
   ]
  },
  {
   "cell_type": "code",
   "execution_count": 35,
   "id": "9af4c247",
   "metadata": {},
   "outputs": [
    {
     "name": "stdout",
     "output_type": "stream",
     "text": [
      "200\n",
      "<title>BU Facts &amp; Stats | Office of the President</title>\n"
     ]
    }
   ],
   "source": [
    "url = 'http://www.bu.edu/president/boston-university-facts-stats/'\n",
    "\n",
    "response = requests.get(url)\n",
    "\n",
    "print(response.status_code)\n",
    "\n",
    "content = response.content\n",
    "soup = BeautifulSoup(content, 'html.parser')\n",
    "print(soup.title)\n",
    "\n",
    "\n",
    "json_data = json.dumps(str(soup))"
   ]
  },
  {
   "cell_type": "code",
   "execution_count": null,
   "id": "d4e70e02",
   "metadata": {},
   "outputs": [],
   "source": [
    "import requests\n",
    "from bs4 import BeautifulSoup as bs \n",
    " \n",
    "r = requests.get('https://archive.ics.uci.edu/ml/datasets.php') \n",
    "\n",
    "soup = bs(r.content)\n",
    "print(soup.prettify()) \n",
    "import pandas as pd \n",
    "table = soup.select('table#dataTablesFaculties')[0] \n",
    "columns = table.find('thead').find_all('th') \n",
    "table_df = pd.read_html(str(table))[0] \n",
    "table_df "
   ]
  },
  {
   "cell_type": "code",
   "execution_count": null,
   "id": "2746734f",
   "metadata": {},
   "outputs": [],
   "source": [
    "import requests\n",
    "from bs4 import BeautifulSoup as bs \n",
    "\n",
    "r = requests.get('https://en.wikipedia.org/wiki/List_of_presidents_of_the_United_States') \n",
    "\n",
    "soup = bs(r.content)\n",
    "print(soup.prettify()) \n",
    "import pandas as pd \n",
    "table = soup.select('table#dataTablesFaculties')[0] \n",
    "columns = table.find('thead').find_all('th') \n",
    "table_df = pd.read_html(str(table))[0] \n",
    "table_df = table_df.to_json "
   ]
  }
 ],
 "metadata": {
  "kernelspec": {
   "display_name": "Python 3 (ipykernel)",
   "language": "python",
   "name": "python3"
  },
  "language_info": {
   "codemirror_mode": {
    "name": "ipython",
    "version": 3
   },
   "file_extension": ".py",
   "mimetype": "text/x-python",
   "name": "python",
   "nbconvert_exporter": "python",
   "pygments_lexer": "ipython3",
   "version": "3.9.12"
  }
 },
 "nbformat": 4,
 "nbformat_minor": 5
}
