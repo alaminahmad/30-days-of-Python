{
 "cells": [
  {
   "cell_type": "markdown",
   "id": "11cff927",
   "metadata": {},
   "source": [
    "Exercise Level 1"
   ]
  },
  {
   "cell_type": "code",
   "execution_count": 2,
   "id": "d208790f",
   "metadata": {},
   "outputs": [
    {
     "name": "stdout",
     "output_type": "stream",
     "text": [
      "Enter your age: 12\n",
      "You need 6 more year to learn to drive\n"
     ]
    }
   ],
   "source": [
    "age = int(input('Enter your age: '))\n",
    "\n",
    "if age > 18:\n",
    "    print('You are old enough to drive')\n",
    "else: \n",
    "    print('You need {} more year to learn to drive'.format(18-age))"
   ]
  },
  {
   "cell_type": "code",
   "execution_count": 9,
   "id": "44cbcd36",
   "metadata": {},
   "outputs": [
    {
     "name": "stdout",
     "output_type": "stream",
     "text": [
      "Enter your age: 24\n",
      "you are 0 years older than me\n"
     ]
    }
   ],
   "source": [
    "your_age = int(input('Enter your age: '))\n",
    "my_age = 24\n",
    "\n",
    "if my_age > your_age:\n",
    "    print('I am {} years older than you'.format(my_age - your_age))\n",
    "else:\n",
    "    print('you are {} years older than me'.format(your_age - my_age))\n"
   ]
  },
  {
   "cell_type": "code",
   "execution_count": 12,
   "id": "6a87fd8d",
   "metadata": {},
   "outputs": [
    {
     "name": "stdout",
     "output_type": "stream",
     "text": [
      "Enter your number: 23\n",
      "Enter second number: 23\n",
      "23 is equal to 23\n"
     ]
    }
   ],
   "source": [
    "a = int(input('Enter your number: '))\n",
    "b = int(input('Enter second number: '))\n",
    "\n",
    "if a > b:\n",
    "    print(f'{a} is greater than {b}')\n",
    "elif a < b:\n",
    "    print(f'{a} is less than {b}')\n",
    "else:\n",
    "    print(f'{a} is equal to {b}')"
   ]
  },
  {
   "cell_type": "markdown",
   "id": "23de6700",
   "metadata": {},
   "source": [
    "Exercises: Level 2"
   ]
  },
  {
   "cell_type": "code",
   "execution_count": 20,
   "id": "c067618a",
   "metadata": {},
   "outputs": [
    {
     "name": "stdout",
     "output_type": "stream",
     "text": [
      "87\n",
      "A\n"
     ]
    }
   ],
   "source": [
    "score = int(input())\n",
    "if score > 80:\n",
    "    print('A')\n",
    "elif score > 70:\n",
    "    print('B')\n",
    "elif score > 60:\n",
    "    print('C')\n",
    "elif score > 50:\n",
    "    print('D')\n",
    "elif score < 50:\n",
    "    print('F')"
   ]
  },
  {
   "cell_type": "code",
   "execution_count": 22,
   "id": "ae0c296e",
   "metadata": {},
   "outputs": [
    {
     "name": "stdout",
     "output_type": "stream",
     "text": [
      "July\n",
      "This season is Summer\n"
     ]
    }
   ],
   "source": [
    "Autumn = ['September', 'October', 'November']\n",
    "Winter = ['December', 'January', 'February']\n",
    "Sprint = ['March', 'April', 'May']\n",
    "Summer = ['June', 'July', 'August']\n",
    "\n",
    "\n",
    "season  = str(input())\n",
    "\n",
    "if season in Autumn:\n",
    "    print('this season is Autumn')\n",
    "elif season in Winter:\n",
    "    print('this season is Winter')\n",
    "elif season in Sprint:\n",
    "    print('This season is Sprint')\n",
    "else:\n",
    "    print('This season is Summer')"
   ]
  },
  {
   "cell_type": "markdown",
   "id": "259a1a52",
   "metadata": {},
   "source": [
    "Exercise Level 3\n"
   ]
  },
  {
   "cell_type": "code",
   "execution_count": 37,
   "id": "0f3a805a",
   "metadata": {},
   "outputs": [],
   "source": [
    "person={\n",
    "    'first_name': 'Asabeneh',\n",
    "    'last_name': 'Yetayeh',\n",
    "    'age': 250,\n",
    "    'country': 'Finland',\n",
    "    'is_marred': True,\n",
    "    'skills': ['JavaScript', 'React', 'Node', 'MongoDB', 'Python'],\n",
    "    'address': {\n",
    "        'street': 'Space street',\n",
    "        'zipcode': '02210'\n",
    "    }\n",
    "    }"
   ]
  },
  {
   "cell_type": "code",
   "execution_count": 32,
   "id": "a369352d",
   "metadata": {},
   "outputs": [
    {
     "name": "stdout",
     "output_type": "stream",
     "text": [
      "True\n",
      "Node\n",
      "False\n"
     ]
    }
   ],
   "source": [
    "print('skills' in person)\n",
    "print(person['skills'][len(person['skills'])//2])\n",
    "print('python' in person['skills'])"
   ]
  },
  {
   "cell_type": "code",
   "execution_count": 54,
   "id": "a2398882",
   "metadata": {},
   "outputs": [
    {
     "name": "stdout",
     "output_type": "stream",
     "text": [
      "He is a front end developer\n"
     ]
    }
   ],
   "source": [
    "if ('JavaScript' in person['skills']) & ('React' in person['skills']):\n",
    "    print('He is a front end developer')\n",
    "elif ('Node' in person['skills']) & ('Python' in person['skills']) & ('MongoDB' in person['skills']):\n",
    "    print('He is a backend developer')\n",
    "elif ('React' in person['skills']) & ('Python' in person['skills']) & ('MongoDB' in person['skills']):\n",
    "    print('He is fullstack developer')\n",
    "else:\n",
    "    print('unknowntitle')"
   ]
  }
 ],
 "metadata": {
  "kernelspec": {
   "display_name": "Python 3 (ipykernel)",
   "language": "python",
   "name": "python3"
  },
  "language_info": {
   "codemirror_mode": {
    "name": "ipython",
    "version": 3
   },
   "file_extension": ".py",
   "mimetype": "text/x-python",
   "name": "python",
   "nbconvert_exporter": "python",
   "pygments_lexer": "ipython3",
   "version": "3.9.12"
  }
 },
 "nbformat": 4,
 "nbformat_minor": 5
}
