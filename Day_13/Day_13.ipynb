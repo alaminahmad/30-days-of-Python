{
 "cells": [
  {
   "cell_type": "markdown",
   "id": "75b25969",
   "metadata": {},
   "source": [
    "Exercises: Day 13"
   ]
  },
  {
   "cell_type": "markdown",
   "id": "86150b2c",
   "metadata": {},
   "source": [
    "1. Filter only negative and zero in the list using list comprehension"
   ]
  },
  {
   "cell_type": "code",
   "execution_count": 26,
   "id": "4778dfad",
   "metadata": {},
   "outputs": [
    {
     "name": "stdout",
     "output_type": "stream",
     "text": [
      "[-4, -3, -2, -1, 0]\n"
     ]
    }
   ],
   "source": [
    "numbers = [-4, -3, -2, -1, 0, 2, 4, 6]\n",
    "print([i for i in numbers if i <= 0])"
   ]
  },
  {
   "cell_type": "markdown",
   "id": "d3c8a46c",
   "metadata": {},
   "source": [
    "2. Flatten the following list of lists of lists to a one dimensional list :"
   ]
  },
  {
   "cell_type": "code",
   "execution_count": 29,
   "id": "1e2b5082",
   "metadata": {},
   "outputs": [
    {
     "name": "stdout",
     "output_type": "stream",
     "text": [
      "[1, 2, 3, 4, 5, 6, 7, 8, 9]\n"
     ]
    }
   ],
   "source": [
    "list_of_lists =[[[1, 2, 3]], [[4, 5, 6]], [[7, 8, 9]]]\n",
    "print([number for mat in list_of_lists for row in mat for number in row])"
   ]
  },
  {
   "cell_type": "markdown",
   "id": "64da6980",
   "metadata": {},
   "source": [
    "3. Using list comprehension create the following list of tuples:"
   ]
  },
  {
   "cell_type": "code",
   "execution_count": 44,
   "id": "0ecad61a",
   "metadata": {},
   "outputs": [
    {
     "data": {
      "text/plain": [
       "[(0, 1, 0, 0, 0, 0, 0),\n",
       " (1, 1, 1, 1, 1, 1, 1),\n",
       " (2, 1, 2, 4, 8, 16, 32),\n",
       " (3, 1, 3, 9, 27, 81, 243),\n",
       " (4, 1, 4, 16, 64, 256, 1024),\n",
       " (5, 1, 5, 25, 125, 625, 3125),\n",
       " (6, 1, 6, 36, 216, 1296, 7776),\n",
       " (7, 1, 7, 49, 343, 2401, 16807),\n",
       " (8, 1, 8, 64, 512, 4096, 32768),\n",
       " (9, 1, 9, 81, 729, 6561, 59049),\n",
       " (10, 1, 10, 100, 1000, 10000, 100000)]"
      ]
     },
     "execution_count": 44,
     "metadata": {},
     "output_type": "execute_result"
    }
   ],
   "source": [
    "tupples = [(i, 1, i, i**2, i**3, i**4, i**5) for i in range(11)]\n",
    "tupples"
   ]
  },
  {
   "cell_type": "code",
   "execution_count": 54,
   "id": "1d020e3f",
   "metadata": {},
   "outputs": [
    {
     "name": "stdout",
     "output_type": "stream",
     "text": [
      "[['FINLAND', 'FIN', 'HELSINKI'], ['SWEDEN', 'SWE', 'STOCKHOLM'], ['NORWAY', 'NOR', 'OSLO']]\n"
     ]
    }
   ],
   "source": [
    "import re\n",
    "countries = [[('Finland', 'Helsinki')], [('Sweden', 'Stockholm')], [('Norway', 'Oslo')]]\n",
    "new_list = [[country_i.upper(), re.findall('\\w\\w\\w', country_i)[0].upper(), country_j.upper()] for lists in countries for country_i, country_j in lists]\n",
    "print(new_list)"
   ]
  },
  {
   "cell_type": "code",
   "execution_count": 60,
   "id": "66167154",
   "metadata": {},
   "outputs": [
    {
     "data": {
      "text/plain": [
       "[{'Country': 'FINLAND', 'City': 'HELSINKI'},\n",
       " {'Country': 'SWEDEN', 'City': 'STOCKHOLM'},\n",
       " {'Country': 'NORWAY', 'City': 'OSLO'}]"
      ]
     },
     "execution_count": 60,
     "metadata": {},
     "output_type": "execute_result"
    }
   ],
   "source": [
    "countries = [[('Finland', 'Helsinki')], [('Sweden', 'Stockholm')], [('Norway', 'Oslo')]]\n",
    "dict_countries = [{'Country': country.upper(),\n",
    "                  'City': city.upper()}\n",
    "                  for list in countries for country, city in list]\n",
    "dict_countries"
   ]
  },
  {
   "cell_type": "code",
   "execution_count": 63,
   "id": "376e1be2",
   "metadata": {},
   "outputs": [
    {
     "data": {
      "text/plain": [
       "['Asabeneh Yetayeh', 'David Smith', 'Donald Trump', 'Bill Gates']"
      ]
     },
     "execution_count": 63,
     "metadata": {},
     "output_type": "execute_result"
    }
   ],
   "source": [
    "names = [[('Asabeneh', 'Yetayeh')], [('David', 'Smith')], [('Donald', 'Trump')], [('Bill', 'Gates')]]\n",
    "conc_names = [first_name + ' ' + last_name for list in names for first_name, last_name in list]\n",
    "conc_names"
   ]
  },
  {
   "cell_type": "code",
   "execution_count": null,
   "id": "35e2244e",
   "metadata": {},
   "outputs": [],
   "source": []
  }
 ],
 "metadata": {
  "kernelspec": {
   "display_name": "Python 3 (ipykernel)",
   "language": "python",
   "name": "python3"
  },
  "language_info": {
   "codemirror_mode": {
    "name": "ipython",
    "version": 3
   },
   "file_extension": ".py",
   "mimetype": "text/x-python",
   "name": "python",
   "nbconvert_exporter": "python",
   "pygments_lexer": "ipython3",
   "version": "3.9.12"
  }
 },
 "nbformat": 4,
 "nbformat_minor": 5
}
