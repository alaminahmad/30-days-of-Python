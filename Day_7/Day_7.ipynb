{
 "cells": [
  {
   "cell_type": "markdown",
   "id": "18730e4c",
   "metadata": {},
   "source": [
    "Exercise: level 1"
   ]
  },
  {
   "cell_type": "code",
   "execution_count": 5,
   "id": "7efd033f",
   "metadata": {},
   "outputs": [],
   "source": [
    "it_companies = {'Facebook', 'Google', 'Microsoft', 'Apple', 'IBM', 'Oracle', 'Amazon'}\n",
    "A = {19, 22, 24, 20, 25, 26}\n",
    "B = {19, 22, 20, 25, 26, 24, 28, 27}\n",
    "age = [22, 19, 24, 25, 26, 24, 25, 24]"
   ]
  },
  {
   "cell_type": "code",
   "execution_count": 7,
   "id": "7e19167f",
   "metadata": {},
   "outputs": [
    {
     "name": "stdout",
     "output_type": "stream",
     "text": [
      "length of it_companies:  7\n"
     ]
    }
   ],
   "source": [
    "print('length of it_companies: ', len(it_companies))\n",
    "it_companies.add('Tweeter')"
   ]
  },
  {
   "cell_type": "code",
   "execution_count": 8,
   "id": "45f7c10b",
   "metadata": {},
   "outputs": [
    {
     "data": {
      "text/plain": [
       "{'Amazon',\n",
       " 'Apple',\n",
       " 'Facebook',\n",
       " 'Google',\n",
       " 'IBM',\n",
       " 'Microsoft',\n",
       " 'Oracle',\n",
       " 'Tweeter'}"
      ]
     },
     "execution_count": 8,
     "metadata": {},
     "output_type": "execute_result"
    }
   ],
   "source": [
    "it_companies"
   ]
  },
  {
   "cell_type": "code",
   "execution_count": 9,
   "id": "22e91622",
   "metadata": {},
   "outputs": [],
   "source": [
    "it_companies.update({'Yahoo', 'Baidu'})"
   ]
  },
  {
   "cell_type": "code",
   "execution_count": 10,
   "id": "103a31a8",
   "metadata": {},
   "outputs": [
    {
     "data": {
      "text/plain": [
       "{'Amazon',\n",
       " 'Apple',\n",
       " 'Baidu',\n",
       " 'Facebook',\n",
       " 'Google',\n",
       " 'IBM',\n",
       " 'Microsoft',\n",
       " 'Oracle',\n",
       " 'Tweeter',\n",
       " 'Yahoo'}"
      ]
     },
     "execution_count": 10,
     "metadata": {},
     "output_type": "execute_result"
    }
   ],
   "source": [
    "it_companies"
   ]
  },
  {
   "cell_type": "code",
   "execution_count": 11,
   "id": "66873da2",
   "metadata": {},
   "outputs": [
    {
     "data": {
      "text/plain": [
       "{'Amazon',\n",
       " 'Apple',\n",
       " 'Baidu',\n",
       " 'Facebook',\n",
       " 'Google',\n",
       " 'IBM',\n",
       " 'Microsoft',\n",
       " 'Oracle',\n",
       " 'Tweeter'}"
      ]
     },
     "execution_count": 11,
     "metadata": {},
     "output_type": "execute_result"
    }
   ],
   "source": [
    "it_companies.remove('Yahoo')\n",
    "it_companies"
   ]
  },
  {
   "cell_type": "markdown",
   "id": "f1eacbac",
   "metadata": {},
   "source": [
    "Difference between remove and discard is that remove output error when the element to be removed is not found in the set\n",
    "while discard does not print error."
   ]
  },
  {
   "cell_type": "markdown",
   "id": "715fef05",
   "metadata": {},
   "source": [
    "Exercise: level 2"
   ]
  },
  {
   "cell_type": "code",
   "execution_count": 21,
   "id": "42350d83",
   "metadata": {},
   "outputs": [
    {
     "name": "stdout",
     "output_type": "stream",
     "text": [
      "{19, 20, 22, 24, 25, 26, 27, 28}\n",
      "{19, 20, 22, 24, 25, 26}\n",
      "True\n",
      "False\n",
      "{19, 20, 22, 24, 25, 26, 27, 28}\n",
      "{19, 20, 22, 24, 25, 26, 27, 28}\n",
      "{27, 28}\n"
     ]
    }
   ],
   "source": [
    "print(A.union(B))\n",
    "print(A.intersection(B))\n",
    "print(A.issubset(B))\n",
    "print(A.isdisjoint(B))\n",
    "print(A.union(B))\n",
    "print(B.union(A))\n",
    "print(A.symmetric_difference(B))\n",
    "\n",
    "del A\n",
    "del B"
   ]
  },
  {
   "cell_type": "markdown",
   "id": "b74fa14b",
   "metadata": {},
   "source": [
    "Exercise: level 3"
   ]
  },
  {
   "cell_type": "code",
   "execution_count": 28,
   "id": "35989f96",
   "metadata": {},
   "outputs": [
    {
     "name": "stdout",
     "output_type": "stream",
     "text": [
      "age list is bigger than age set\n"
     ]
    }
   ],
   "source": [
    "age_lt = set(age)\n",
    "if len(age) > len(age_lt):\n",
    "    print('age list is bigger than age set')\n",
    "else:\n",
    "    print('age set is bigger than age list')"
   ]
  },
  {
   "cell_type": "markdown",
   "id": "158b1a35",
   "metadata": {},
   "source": [
    "string: a string is a sequence of characters. For example, \"hello\" is a string containing a sequence of characters 'h', 'e', 'l', 'l', and 'o'.\n",
    "\n",
    "list can be defined as a collection of values or items of different types. Python lists are mutable type which implies that we may modify its element after it has been formed. The items in the list are separated with the comma (,) and enclosed with the square brackets [].\n",
    "\n",
    "Tuple: A Tuple is a collection of Python objects separated by commas. In some ways, a tuple is similar to a list in terms of indexing, nested objects, and repetition but a tuple is immutable, unlike lists that are mutable.\n",
    "\n",
    "Set: A Set is an unordered collection data type that is iterable, mutable, and has no duplicate elements. Python’s set class represents the mathematical notion of a set."
   ]
  },
  {
   "cell_type": "code",
   "execution_count": 33,
   "id": "9f20ca7b",
   "metadata": {},
   "outputs": [
    {
     "name": "stdout",
     "output_type": "stream",
     "text": [
      "There are 10 uniques words in the text\n"
     ]
    }
   ],
   "source": [
    "txt = 'I am a teacher and I love to inspire and teach people'\n",
    "txt = txt.split()\n",
    "print('There are {} uniques words in the text'.format(len(set(txt))))"
   ]
  }
 ],
 "metadata": {
  "kernelspec": {
   "display_name": "Python 3 (ipykernel)",
   "language": "python",
   "name": "python3"
  },
  "language_info": {
   "codemirror_mode": {
    "name": "ipython",
    "version": 3
   },
   "file_extension": ".py",
   "mimetype": "text/x-python",
   "name": "python",
   "nbconvert_exporter": "python",
   "pygments_lexer": "ipython3",
   "version": "3.9.12"
  }
 },
 "nbformat": 4,
 "nbformat_minor": 5
}
