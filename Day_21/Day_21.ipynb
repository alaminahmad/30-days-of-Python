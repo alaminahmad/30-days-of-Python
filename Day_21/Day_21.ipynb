{
 "cells": [
  {
   "cell_type": "markdown",
   "id": "55569b2f",
   "metadata": {},
   "source": [
    "Exercises: Level 1"
   ]
  },
  {
   "cell_type": "code",
   "execution_count": 76,
   "id": "f737880d",
   "metadata": {},
   "outputs": [],
   "source": [
    "import math\n",
    "class Statistics:\n",
    "    \n",
    "    def __init__(self, data):\n",
    "        self.data = data\n",
    "    \n",
    "    def count(self):\n",
    "        count_ = 0\n",
    "        for i in self.data:\n",
    "            count_ += 1\n",
    "        return count_\n",
    "    \n",
    "    def sum(self):\n",
    "        sum = 0\n",
    "        for i in self.data:\n",
    "            sum += i\n",
    "        return sum\n",
    "    \n",
    "    def min(self):\n",
    "        return min(self.data)\n",
    "    \n",
    "    def max(self):\n",
    "        return max(self.data)\n",
    "    \n",
    "    def range(self):\n",
    "        return max(self.data) - min(self.data)\n",
    "    \n",
    "    def mean(self):\n",
    "        return self.sum() / self.count()\n",
    "    \n",
    "    def median(self):\n",
    "        data = sorted(self.data)\n",
    "        if len(data) % 2 == 0:\n",
    "            return [data[len(data)//2 -1], data[len(data)//2]]\n",
    "        return data[len(data)//2 ]\n",
    "    \n",
    "    def mode(self):\n",
    "        lst = list(sorted(self.data))\n",
    "        conts = []\n",
    "        for i in lst:\n",
    "            conts.append(self.data.count(i))\n",
    "        return lst[(conts.index(max(conts)))]\n",
    "    \n",
    "    def variance(self):\n",
    "        mean_value = self.mean()\n",
    "        var = []\n",
    "        for i in self.data:\n",
    "            var.append((i - mean_value)**2)\n",
    "        return sum(var) / len(self.data)\n",
    "\n",
    "    def std(self):\n",
    "\n",
    "        return math.sqrt(self.variance())\n",
    "        \n",
    "    def freq_dist(self):\n",
    "        enum_lst = []\n",
    "        for i in self.data:\n",
    "            enum_lst.append((i, self.data.count(i)))\n",
    "        return enum_lst"
   ]
  },
  {
   "cell_type": "code",
   "execution_count": 79,
   "id": "32d50ab3",
   "metadata": {},
   "outputs": [
    {
     "name": "stdout",
     "output_type": "stream",
     "text": [
      "Count: 25\n",
      "Sum:  744\n",
      "Min:  24\n",
      "Max:  38\n",
      "Range:  14\n",
      "Mean:  29.76\n",
      "Median:  29\n",
      "Mode:  26\n",
      "Standard Deviation:  4.188364836066696\n",
      "Variance:  17.5424\n",
      "Frequency Distribution:  [(31, 2), (26, 5), (34, 2), (37, 2), (27, 4), (26, 5), (32, 3), (32, 3), (26, 5), (27, 4), (27, 4), (24, 2), (32, 3), (33, 2), (27, 4), (25, 1), (26, 5), (38, 1), (37, 2), (31, 2), (34, 2), (24, 2), (33, 2), (29, 1), (26, 5)]\n"
     ]
    }
   ],
   "source": [
    "ages = [31, 26, 34, 37, 27, 26, 32, 32, 26, 27, 27, 24, 32, 33, 27, 25, 26, 38, 37, 31, 34, 24, 33, 29, 26]\n",
    "data = Statistics(ages)\n",
    "\n",
    "print('Count:', data.count()) # 25\n",
    "print('Sum: ', data.sum()) # 744\n",
    "print('Min: ', data.min()) # 24\n",
    "print('Max: ', data.max()) # 38\n",
    "print('Range: ', data.range()) # 14\n",
    "print('Mean: ', data.mean()) # 30\n",
    "print('Median: ', data.median()) # 29\n",
    "print('Mode: ', data.mode()) # {'mode': 26, 'count': 5}\n",
    "print('Standard Deviation: ', data.std()) # 4.2\n",
    "print('Variance: ', data.variance()) # 17.5\n",
    "print('Frequency Distribution: ', data.freq_dist())"
   ]
  },
  {
   "cell_type": "markdown",
   "id": "65086853",
   "metadata": {},
   "source": [
    "Exercises: Level 2"
   ]
  },
  {
   "cell_type": "code",
   "execution_count": 100,
   "id": "9ce2b2f7",
   "metadata": {},
   "outputs": [],
   "source": [
    "class PersonAccount:\n",
    "    def __init__(self, firstname, lastname):\n",
    "        self.firstname = firstname\n",
    "        self.lastname = lastname\n",
    "        self.incomes = []\n",
    "        self.expenses = []\n",
    "        \n",
    "    def total_income(self):\n",
    "        return sum(self.incomes)\n",
    "    \n",
    "    def total_expense(self):\n",
    "        return sum(self.expenses)\n",
    "    \n",
    "    def account_info(self):\n",
    "        return f'{self.firstname} {self.lastname} has total incomes {self.totalincomes} and expenses {self.total_expenses} with {self.account_balance} acount balance'\n",
    "    \n",
    "    def add_incom(self, data):\n",
    "        self.incomes.append(data)\n",
    "        \n",
    "    def add_expense(self, data):\n",
    "        self.expenses.append(data)\n",
    "        \n",
    "    def account_balance(self):\n",
    "        a = self.tota\n",
    "        return self.total_income - self.total_expense\n",
    "    "
   ]
  },
  {
   "cell_type": "code",
   "execution_count": 101,
   "id": "b3c19915",
   "metadata": {},
   "outputs": [
    {
     "name": "stdout",
     "output_type": "stream",
     "text": [
      "100\n",
      "15\n"
     ]
    },
    {
     "ename": "TypeError",
     "evalue": "unsupported operand type(s) for -: 'method' and 'method'",
     "output_type": "error",
     "traceback": [
      "\u001b[1;31m---------------------------------------------------------------------------\u001b[0m",
      "\u001b[1;31mTypeError\u001b[0m                                 Traceback (most recent call last)",
      "Input \u001b[1;32mIn [101]\u001b[0m, in \u001b[0;36m<cell line: 10>\u001b[1;34m()\u001b[0m\n\u001b[0;32m      8\u001b[0m \u001b[38;5;28mprint\u001b[39m(a\u001b[38;5;241m.\u001b[39mtotal_income())\n\u001b[0;32m      9\u001b[0m \u001b[38;5;28mprint\u001b[39m(a\u001b[38;5;241m.\u001b[39mtotal_expense())\n\u001b[1;32m---> 10\u001b[0m \u001b[38;5;28mprint\u001b[39m(\u001b[43ma\u001b[49m\u001b[38;5;241;43m.\u001b[39;49m\u001b[43maccount_balance\u001b[49m\u001b[43m(\u001b[49m\u001b[43m)\u001b[49m)\n",
      "Input \u001b[1;32mIn [100]\u001b[0m, in \u001b[0;36mPersonAccount.account_balance\u001b[1;34m(self)\u001b[0m\n\u001b[0;32m     23\u001b[0m \u001b[38;5;28;01mdef\u001b[39;00m \u001b[38;5;21maccount_balance\u001b[39m(\u001b[38;5;28mself\u001b[39m):\n\u001b[1;32m---> 24\u001b[0m     \u001b[38;5;28;01mreturn\u001b[39;00m \u001b[38;5;28;43mself\u001b[39;49m\u001b[38;5;241;43m.\u001b[39;49m\u001b[43mtotal_income\u001b[49m\u001b[43m \u001b[49m\u001b[38;5;241;43m-\u001b[39;49m\u001b[43m \u001b[49m\u001b[38;5;28;43mself\u001b[39;49m\u001b[38;5;241;43m.\u001b[39;49m\u001b[43mtotal_expense\u001b[49m\n",
      "\u001b[1;31mTypeError\u001b[0m: unsupported operand type(s) for -: 'method' and 'method'"
     ]
    }
   ],
   "source": [
    "a = PersonAccount('Alamin', 'Ahmad')\n",
    "a.add_incom(20)\n",
    "a.add_expense(10)\n",
    "a.add_incom(30)\n",
    "a.add_incom(50)\n",
    "a.add_expense(5)\n",
    "\n",
    "print(a.total_income())\n",
    "print(a.total_expense())\n",
    "print(a.account_balance())"
   ]
  },
  {
   "cell_type": "code",
   "execution_count": 94,
   "id": "c6715783",
   "metadata": {},
   "outputs": [],
   "source": []
  },
  {
   "cell_type": "code",
   "execution_count": 85,
   "id": "65112eb6",
   "metadata": {},
   "outputs": [
    {
     "data": {
      "text/plain": [
       "100"
      ]
     },
     "execution_count": 85,
     "metadata": {},
     "output_type": "execute_result"
    }
   ],
   "source": []
  },
  {
   "cell_type": "code",
   "execution_count": 90,
   "id": "f4c94a26",
   "metadata": {},
   "outputs": [
    {
     "data": {
      "text/plain": [
       "15"
      ]
     },
     "execution_count": 90,
     "metadata": {},
     "output_type": "execute_result"
    }
   ],
   "source": []
  },
  {
   "cell_type": "code",
   "execution_count": 95,
   "id": "0a350c54",
   "metadata": {},
   "outputs": [
    {
     "ename": "TypeError",
     "evalue": "unsupported operand type(s) for -: 'method' and 'method'",
     "output_type": "error",
     "traceback": [
      "\u001b[1;31m---------------------------------------------------------------------------\u001b[0m",
      "\u001b[1;31mTypeError\u001b[0m                                 Traceback (most recent call last)",
      "Input \u001b[1;32mIn [95]\u001b[0m, in \u001b[0;36m<cell line: 1>\u001b[1;34m()\u001b[0m\n\u001b[1;32m----> 1\u001b[0m \u001b[43ma\u001b[49m\u001b[38;5;241;43m.\u001b[39;49m\u001b[43maccount_balance\u001b[49m\u001b[43m(\u001b[49m\u001b[43m)\u001b[49m\n",
      "Input \u001b[1;32mIn [92]\u001b[0m, in \u001b[0;36mPersonAccount.account_balance\u001b[1;34m(self)\u001b[0m\n\u001b[0;32m     23\u001b[0m \u001b[38;5;28;01mdef\u001b[39;00m \u001b[38;5;21maccount_balance\u001b[39m(\u001b[38;5;28mself\u001b[39m):\n\u001b[1;32m---> 24\u001b[0m     \u001b[38;5;28;01mreturn\u001b[39;00m \u001b[38;5;28;43mself\u001b[39;49m\u001b[38;5;241;43m.\u001b[39;49m\u001b[43mtotal_income\u001b[49m\u001b[43m \u001b[49m\u001b[38;5;241;43m-\u001b[39;49m\u001b[43m \u001b[49m\u001b[38;5;28;43mself\u001b[39;49m\u001b[38;5;241;43m.\u001b[39;49m\u001b[43mtotal_expense\u001b[49m\n",
      "\u001b[1;31mTypeError\u001b[0m: unsupported operand type(s) for -: 'method' and 'method'"
     ]
    }
   ],
   "source": []
  }
 ],
 "metadata": {
  "kernelspec": {
   "display_name": "Python 3 (ipykernel)",
   "language": "python",
   "name": "python3"
  },
  "language_info": {
   "codemirror_mode": {
    "name": "ipython",
    "version": 3
   },
   "file_extension": ".py",
   "mimetype": "text/x-python",
   "name": "python",
   "nbconvert_exporter": "python",
   "pygments_lexer": "ipython3",
   "version": "3.9.12"
  }
 },
 "nbformat": 4,
 "nbformat_minor": 5
}
