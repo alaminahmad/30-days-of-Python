{
 "cells": [
  {
   "cell_type": "code",
   "execution_count": 63,
   "id": "19ea3b58",
   "metadata": {},
   "outputs": [
    {
     "name": "stdout",
     "output_type": "stream",
     "text": [
      "['Finland', 'Sweden', 'Norway', 'Denmark', 'Iceland']\n",
      "Estonia\n",
      "Russia\n"
     ]
    }
   ],
   "source": [
    "#Q: Unpack the first five countries and store them in a variable nordic_countries, \n",
    "#store Estonia and Russia in es, and ru respectively.\n",
    "\n",
    "names = ['Finland', 'Sweden', 'Norway','Denmark','Iceland', 'Estonia','Russia']\n",
    "*normadic_coutries, es, ru = names\n",
    "print(normadic_coutries)\n",
    "print(es)\n",
    "print(ru)"
   ]
  }
 ],
 "metadata": {
  "kernelspec": {
   "display_name": "Python 3 (ipykernel)",
   "language": "python",
   "name": "python3"
  },
  "language_info": {
   "codemirror_mode": {
    "name": "ipython",
    "version": 3
   },
   "file_extension": ".py",
   "mimetype": "text/x-python",
   "name": "python",
   "nbconvert_exporter": "python",
   "pygments_lexer": "ipython3",
   "version": "3.9.12"
  }
 },
 "nbformat": 4,
 "nbformat_minor": 5
}
